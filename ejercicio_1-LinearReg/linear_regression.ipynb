{
 "cells": [
  {
   "attachments": {},
   "cell_type": "markdown",
   "metadata": {},
   "source": [
    "# Regresión lineal\n",
    "En este ejercicio implementarás la solución analítica de regresión lineal. Además, investigarás la influencia de los puntos extremos en el modelo. Antes de empezar importaremos las librerias necesarias. Después, leeremos el archivo que contiene los datos de entrenamiento.\n",
    "\n",
    "**(TODO) Describe la diferencia entre regresión y clasificación en una oración**\n",
    "\n",
    "## Ejercicio:\n",
    "En la siguiente parte queremos implementar la solución de mínimos cuadrados para regresión lineal. Esto significa que dado un set de puntos $\\{\\mathbf{x_i},y_i\\}$, $i = 1, 2, ..., M$ queremos encontrar la línea (o hiperplano en múltiples dimensiones) que minimice el error cuadrático. Este tipo de error, mide la distancia entre los puntos predichos por el modelo lineal contra los valores reales.\n",
    "\n",
    "La fórmula general de regresión lineal es $\\mathbf{y} = \\mathbf X \\boldsymbol w+ \\mathbf{\\epsilon}$ donde:\n",
    "\n",
    "- $\\epsilon$ es un vector de dimensionalidad\n",
    "- $\\mathbb{R}^M$ conteniendo los términos de error $N(0,\\sigma^2)$\n",
    "- $\\mathbf{y}$ es el vector de etiquedas\n",
    "- $\\mathbf{X}$ es la *matriz* de data points de dimensionalidad $\\mathbb{R}^{M \\times D}$. \n",
    "\n",
    "Nos interesa calcular los pesos $\\hat{\\boldsymbol w}$ que definan la función lineal óptima. Como vimos en clase, estos estimados están dados por:\n",
    "\n",
    "\\begin{equation}\n",
    "\\hat{\\boldsymbol w} = (\\mathbf{X}^{\\rm T}\\mathbf{X})^{-1} \\mathbf{X}^{\\rm T}\\mathbf{y}\n",
    "\\end{equation}\n",
    "\n",
    "**Tu trabajo**\n",
    "1. En el primer ejercicio, generaremos un ruido gausiano de dos dimensiones alrededor de una función lineal. Observa como se general los datos y cuáles son los parámetros reales de $\\boldsymbol{w}$.\n",
    "2. Implementarás la solución analítica de regresión lineal. Para ello debes realizar los siguientes pasos.\n",
    "    1. Modifica la matriz de datos para que se encuentre en la forma de notación aumentada.\n",
    "    2. Calcula los pesos estimados según la fórmula vista en clase, usando las funciones de numpy y python.\n",
    "    3. Visualiza la línea resultante (el modelo) en la misma gráfica que de los datos originales.\n",
    "    3. Calcula la suma de errores residuales de los data points y estima un promedio i.e. $\\sum_{i=1}^M \\|y(x_i) - y_i \\|^2$.\n",
    "    5. Compara tus resultados con la función integrada de numpy `np.linalg.lstsq(...)`\n",
    "3. Finalmente, repite los pasos anteriores para generar un modelo de regresión lineal que resuelva del problema de las casas."
   ]
  },
  {
   "attachments": {},
   "cell_type": "markdown",
   "metadata": {},
   "source": [
    "## 1. \"Toy problem\""
   ]
  },
  {
   "cell_type": "code",
   "execution_count": 1,
   "metadata": {},
   "outputs": [
    {
     "name": "stdout",
     "output_type": "stream",
     "text": [
      "(100, 1)\n",
      "(100, 1)\n"
     ]
    },
    {
     "data": {
      "image/png": "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",
      "text/plain": [
       "<Figure size 640x480 with 1 Axes>"
      ]
     },
     "metadata": {},
     "output_type": "display_data"
    }
   ],
   "source": [
    "%matplotlib inline\n",
    "import numpy as np\n",
    "import matplotlib.pyplot as plt\n",
    "\n",
    "## Generamos datos aleatorios con una desviación estandar conocida\n",
    "## Alrededor de una funcion lineal conocida y = 1.2x + 0.7\n",
    "n_muestras = 100\n",
    "ruido_blanco_std = 2\n",
    "X = np.random.randn(n_muestras, 1)\n",
    "eps = np.random.randn(n_muestras, 1) * ruido_blanco_std\n",
    "w = np.array([[5, 1.2]]).T\n",
    "y = w[0] + X * w[1] + eps\n",
    "\n",
    "## Imprimimos la dimensionalidad de nuestros datos de entrada y las etiquetas\n",
    "print(X.shape)  # X es de n_muestras, 1 (variable)\n",
    "print(y.shape)\n",
    "print(w.shape)\n",
    "\n",
    "## Graficar los datos\n",
    "plt.scatter(X, y)\n",
    "plt.grid()"
   ]
  },
  {
   "attachments": {},
   "cell_type": "markdown",
   "metadata": {},
   "source": [
    "## 2. Solución a regresión lineal"
   ]
  },
  {
   "cell_type": "code",
   "execution_count": null,
   "metadata": {},
   "outputs": [],
   "source": [
    "# 2.1. TODO: Transforma los datapoints X a notación aumentada\n",
    "unitos=np.ones((n_muestras,1))\n",
    "X_augmented = np.concatenate((unitos, X))\n",
    "# Tips: \n",
    "#   - Imprime la forma/dimensionalidad de la matriz con print(X.shape) y verifica que sea del tamaño adecuado\n",
    "#   - Investiga la función de numpy np.concatenate y np.ones\n",
    "\n",
    "print(X_augmented.shape)"
   ]
  },
  {
   "cell_type": "code",
   "execution_count": null,
   "metadata": {},
   "outputs": [],
   "source": [
    "# 2.2 TODO: usa la ecuación anterior (X'X)^(-1)X'Y para calcular los pesos\n",
    "# Consejo: \n",
    "w_hat = (np.linalg.inv(X.T@X))@(X.T@y)\n",
    "#       Utiliza np.dot() o @ para calcular la multiplicación de matrices\n",
    "#       np.linalg.inv() se usa para calcular la matriz inversa\n",
    "#       X.T es la transpuesta de X\n",
    "print(w_hat.shape)"
   ]
  },
  {
   "cell_type": "code",
   "execution_count": null,
   "metadata": {},
   "outputs": [],
   "source": [
    "# 2.3 TODO: Calcula las predicciones de tu modelo\n",
    "y_hat = X@w_hat\n",
    "\n",
    "plt.plot(X, y, 'o', label='Datos originales', markersize=10)\n",
    "\n",
    "# TODO: Grafica las preddicciones/ la linea resultante\n",
    "plt.plot(X, y_hat, 'r', lw=4, label='Linea resultante')\n",
    "\n",
    "plt.legend()"
   ]
  },
  {
   "cell_type": "code",
   "execution_count": null,
   "metadata": {},
   "outputs": [],
   "source": [
    "## 2.4 TODO: Calcula la suma de errores cuadrádos\n",
    "\n",
    "residual = np.sum((y-y_hat)**2)\n",
    "\n",
    "## 2.5 TODO: Compara los resultados con la función integrada de numpy 'np.linalg.lstsq'\n",
    "m , residual_2 = np.linalg.lstsq(X, y, rcond=None)[0:2]\n",
    "# Graficando\n",
    "plt.plot(X, y, 'o', label='Datos originales', markersize=10)\n",
    "\n",
    "# TODO: Grafica la linea resultante de TU modelo como en la sección anterior\n",
    "plt.plot(X, y_hat, 'r', lw=3, label='Linea resultante')\n",
    "\n",
<<<<<<< HEAD
    "# TODO: Grafica la linea resultante de TU modelo como en la sección anterior\n",
    "plt.plot(X, m*X , ':k', label='función integrada')\n",
=======
    "# TODO: Grafica la linea resultante de scikit-learn como en la sección anterior\n",
    "plt.plot(..., ..., ':k', label='función integrada')\n",
>>>>>>> upstream/master
    "plt.legend()\n",
    "plt.show()\n",
    "\n",
    "# TODO: Imprime y compara la suma de errores cuadrádos calculado por TU metodo y el de numpy\n",
    "print(\"Residuales mios: \", residual)\n",
    "print(\"Residuales numpy:\", residual_2)"
   ]
  },
  {
   "attachments": {},
   "cell_type": "markdown",
   "metadata": {},
   "source": [
    "## 3. El efecto de los outliers\n",
    "\n",
    "En esta sección analizaremos los datos del problema de las casas para buscar una solución a través de regresión lineal.\n",
    "\n",
    "Para ello observaremos los datos y aplicaremos un modelo de regresión lineal a los mismos. Después realizarás los mismo pasos en un conjunto con datos filtrados a fin de encontrar un mejor modelo.\n",
    "\n",
    "Tu trabajo:\n",
    "1. Utiliza la librería de scikit-learn para encontrar la solución de regresión lineal para el problema de las casas usando el **conjunto de datos de entrenamiento (train_data)**\n",
    "2. Calcula el error cuadrático en el **conjunto de validación (val_data)**.\n",
    "3. Repite los dos pasos anteriores para los datos filtrados y observa la diferencia."
   ]
  },
  {
   "cell_type": "code",
   "execution_count": null,
   "metadata": {},
   "outputs": [],
   "source": [
    "# Importar librerias\n",
    "import pandas as pd\n",
    "import numpy as np\n",
    "import os\n",
    "from pathlib import Path"
   ]
  },
  {
   "cell_type": "code",
   "execution_count": null,
   "metadata": {},
   "outputs": [],
   "source": [
    "def read_data(data_dir, file):\n",
    "    df = pd.read_csv(os.path.join(data_dir, file))\n",
    "    return df\n",
    "\n",
    "# Leer los datasets\n",
    "data_dir = \"./data\"\n",
    "data = read_data(data_dir, \"train.csv\")\n",
    "\n",
    "# Filtrar los datos para seleccionar las columnas de interes\n",
    "# y dejar solo los datos del 2010\n",
    "selected_dim = [\"LotArea\", \"SalePrice\"]\n",
    "data = data[data[\"YrSold\"] <= 2009]\n",
    "data = data[selected_dim]\n",
    "\n",
    "# Separamos los datos en diferentes conjuntos\n",
    "n_datapoints = len(data)\n",
    "train_data = data[:-n_datapoints//4]\n",
    "val_data = data[-n_datapoints//4:]"
   ]
  },
  {
   "attachments": {},
   "cell_type": "markdown",
   "metadata": {},
   "source": [
    "## Visualización\n",
    "En la siguiente celda visualizamos los datos originales. Observa como contine una distribución densa para cases con un area menor a 50k sqft y un precio menor a 600k USD, y por otro lado contiene datos escasos fuera de estos rangos."
   ]
  },
  {
   "cell_type": "code",
   "execution_count": null,
   "metadata": {},
   "outputs": [],
   "source": [
    "import matplotlib.pyplot as plt\n",
    "%matplotlib inline\n",
    "\n",
    "def plot_data(x, labels):\n",
    "    x_label = \"Área (sqft)\"\n",
    "    y_label = \"Precio (USD)\"\n",
    "    fig, ax = plt.subplots(figsize=(4,4))\n",
    "    ax.scatter(x, labels, edgecolors='black') # x, y\n",
    "    ax.set_ylabel(y_label, fontweight='bold')\n",
    "    ax.set_xlabel(x_label, fontweight='bold')\n",
    "    ax.grid(linestyle='--')\n",
    "    return fig, ax\n",
    "\n",
    "# Definir variables y etiquetas\n",
    "X = np.array(train_data[\"LotArea\"])\n",
    "y = np.array(train_data[\"SalePrice\"])\n",
    "\n",
    "# Visualizar los datos originales\n",
    "fig, ax = plot_data(X, y)\n",
    "fig.tight_layout()\n",
    "plt.show()"
   ]
  },
  {
   "attachments": {},
   "cell_type": "markdown",
   "metadata": {},
   "source": [
    "### Regresión en datos originales\n",
    "\n",
    "Primero aplicaremos regresión lineal a los datos íntegros para observar el efecto de conservar los datos extremos en el entrenamiento del modelo.\n",
    "\n",
    "Puedes consultar la documentación de sci-kit learn para  [regresión lineal](https://scikit-learn.org/stable/modules/generated/sklearn.linear_model.LinearRegression.html) en línea para obtener detalles de como utilizar la función."
   ]
  },
  {
   "cell_type": "code",
   "execution_count": null,
   "metadata": {},
   "outputs": [],
   "source": [
    "from sklearn.linear_model import LinearRegression\n",
    "X = X.reshape(-1, 1)\n",
    "\n",
    "# TODO: Usas la funcion integrada de scikit learn para encontrar un modelo de regresión lineal que se ajuste a los datos de entrenamiento y obtén las predicciones\n",
    "\n",
    "\n",
    "# Graficamos los datos originales\n",
    "fig, ax = plot_data(X, y)\n",
    "# TODO: Grafica la linea resultante sobre los datos originales\n",
    "ax.plot(...)\n",
    "\n",
    "plt.legend()\n",
    "\n",
    "# TODO: calcula el error cuadrado promedio\n",
    "mean_error = ...\n",
    "print(mean_error)"
   ]
  },
  {
   "attachments": {},
   "cell_type": "markdown",
   "metadata": {},
   "source": [
    "## Pre-procesamiento de datos\n",
    "Como observamos, estos datos presentan múltiples valores aislados lo que afecta la solución de regresión lineal. \n",
    "\n",
    "En la siguiente sección, remueve los valores aislados y repite los pasos anteriores para encontrar un modelo de regresión lineal. C\n",
    "\n",
    "Calcula el error cuadrático los datos filtrados. \n",
    "\n",
    "(TODO: Responde) ¿Cuál es el efecto de pre procesar los datos?"
   ]
  },
  {
   "cell_type": "code",
   "execution_count": null,
   "metadata": {},
   "outputs": [],
   "source": [
    "# TODO: Remueve los outliers seleccionando un valor que consideres apropiado (filtra los valores de LotArea <= 70000 y SalePrice <= 700000) hasta que los datos se encuentren densamente concentrados en una región\n",
    "train_data_filtrada = train_data[train_data[\"LotArea\"] <= 70000]\n",
    "train_data_filtrada = train_data_filtrada[train_data[\"SalePrice\"] <= 700000]\n",
    "\n",
    "# Definir variables y etiquetas\n",
    "X_filtered = np.array(train_data_filtrada[\"LotArea\"])\n",
    "y_filtered = np.array(train_data_filtrada[\"SalePrice\"])\n",
    "\n",
    "# Graficar de nuevo\n",
    "fig, ax = plot_data(X_filtered, y_filtered)\n",
    "fig.tight_layout()\n",
    "plt.show()"
   ]
  },
  {
   "attachments": {},
   "cell_type": "markdown",
   "metadata": {},
   "source": [
    "### Regresión en datos filtrados"
   ]
  },
  {
   "cell_type": "code",
   "execution_count": null,
   "metadata": {},
   "outputs": [],
   "source": [
    "X_filtered = X_filtered.reshape(-1, 1)\n",
    "\n",
    "# TODO: Utiliza la clase de LinearRegression de la librería de sci-kit learn para encontrar el modelo de regresión lineal para los datos.\n",
    "\n",
    "\n",
    "# TODO: Grafica la linea resultante sobre los datos originales (train_data)\n",
    "\n",
    "\n",
    "# TODO: calcula el error cuadrado promedio\n",
    "mean_error_new = ...\n",
    "\n",
    "# Visualiza como cambia el error cuando filtramos los datos\n",
    "print(mean_error_new)\n",
    "print(\"diferencia de error\", mean_error - mean_error_new)"
   ]
  },
  {
   "attachments": {},
   "cell_type": "markdown",
   "metadata": {},
   "source": [
    "## TODO: Responde las siguientes preguntas\n",
    "\n",
    "**¿Qué puedes concluir de este ejemplo?**\n",
    "\n",
    "**¿Cuál de las dos soluciones es un mejor modelo de nuestros datos?**\n",
    "\n",
    "**¿Además de filtrar los datos, qué estrategias puedes tomar para penalizar más levemente a los valores aislados?**\n"
   ]
  }
 ],
 "metadata": {
  "kernelspec": {
   "display_name": "Python 3",
   "language": "python",
   "name": "python3"
  },
  "language_info": {
   "codemirror_mode": {
    "name": "ipython",
    "version": 3
   },
   "file_extension": ".py",
   "mimetype": "text/x-python",
   "name": "python",
   "nbconvert_exporter": "python",
   "pygments_lexer": "ipython3",
<<<<<<< HEAD
   "version": "3.10.10"
=======
   "version": "3.8.15 (default, Nov 24 2022, 15:19:38) \n[GCC 11.2.0]"
>>>>>>> upstream/master
  },
  "orig_nbformat": 4,
  "vscode": {
   "interpreter": {
<<<<<<< HEAD
    "hash": "95f3d5a8ce2546a402dcc2804444b3478efa536234e54743d696d4d4ba667925"
=======
    "hash": "04dc998fdd71cb65825f35fa039c285a87c761883882ab18ec8c9090ce63cd9f"
>>>>>>> upstream/master
   }
  }
 },
 "nbformat": 4,
 "nbformat_minor": 2
}
