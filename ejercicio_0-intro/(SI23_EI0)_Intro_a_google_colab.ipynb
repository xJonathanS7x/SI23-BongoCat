{
  "cells": [
    {
      "attachments": {},
      "cell_type": "markdown",
      "metadata": {
        "id": "CuQrgeE5Ml2E"
      },
      "source": [
        "# Introducción a Jupyter Notebook\n",
        "1. Primeros pasos (TODO)\n",
        "2. Entregas de ejercicios\n",
        "2. Orden de ejecución (TODO)\n",
        "3. Introducción a Python (TODO)\n",
        "4. Graficar \n",
        "\n",
        "Nota: Las secciones con la palabra TODO requieren acciones por parte del alumno\n",
        "\n",
        "# 1. Primeros pasos\n",
        "\n",
        "Un \"notebook\" está organizado en celdas. Existen dos tipos principales:\n",
        "1.  Celdas de código\n",
        "2.  Celdas de texto (por ejemplo esta)\n",
        "\n",
        "Cada celda se puede correr por separado y en cualquier orden que quieras. Para correr una celda necesitas activarla (por ejemplo haciendo click en ella). Las celdas de markdown pueden mostrar texto en *itálicas*(`*italica*`), **negritas**(`**italica**`) etc. Incluso permiten la notación matemática en  [$\\LaTeX$](https://www.overleaf.com/learn/latex/Mathematical_expressions):  \n",
        "\n",
        "$v = \\begin{bmatrix} 1  \\\\ 0 \n",
        "      \\end{bmatrix}$\n",
        "\n",
        "\n",
        "Practica transformar la siguiente fórmula de imagen a una fórmula de LaTeX en la siguiente celda.\n",
        "\n",
        "![images.png](data:image/png;base64,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)"
      ]
    },
    {
      "attachments": {},
      "cell_type": "markdown",
      "metadata": {
        "id": "F-Y-5-uLPjm5"
      },
      "source": [
        "#**TODO: Escribe la formula anterior usando LaTeX.**\n",
        "---\n",
        "$A = \\cdot $"
      ]
    },
    {
      "attachments": {},
      "cell_type": "markdown",
      "metadata": {
        "id": "OjOcKJZJalq4"
      },
      "source": [
        "# 2. Indicaciones para entrega de ejercicios\n",
        "Resuelve los ejercicios agregando código donde encuentres la indicación `#TODO`\n",
        "\n",
        "Cada función que escribas deberá correr sin error. Para la evaluación del ejercicio correré el cuarderno utilizando la opción `Restart and run all` para evaluarte. Obtendras los puntos completos si las celdas corren sin problemas y funciona correctamente.\n",
        "\n",
        "## Ejercicios y proyectos:\n",
        "Durante el curso existiran dos tipos de notebooks.\n",
        "Los notebooks tipo ejercicio tendrán la clave E, cuyo objetivo es comprobar los conocimientos teóricos cubiertos en clase.\n",
        "El siguiente tipo serán los proyectos (clave P), los cuales buscarán que sean capaces de tomar decisiones de diseño y serán incluidos en el portafolio final. A mas tardar una semana después de la entrega de estos proyectos tendrán que estar documentados en su portafolio. Se revisarán los avances a lo largo del curso.\n",
        "\n",
        "\n",
        "El procedimiento para entregar los proyectos y ejercicios será el siguiente:\n",
        "1. Por equipo, crearán un repositorio de github privado con el nombre \"SI23_[nombre_de_equipo]\" donde subirán los proyectos como **jupyter notebook** en carpetas indicadas como \"ejercicio 1\", \"proyecto 1\", \"proyecto 2\" ... \"ejercicio n\". Me agregarán como colaborador al proyecto para poder visualizar las actividades. \n",
        "2. Crearé un link de registro en forms para que den de alta su equipo, integrantes, y repositorio.\n",
        "3. Cada semana subiré un ejercicio nuevo a blackboard como un zip con el contenido requerido para completar la actividad. Copiarán el contenido a su repositorio de github *donde resolverán el ejercicio.*\n",
        "4. Revisaré la solución de github en la fecha indicada y recibirán su calificación en blackboard.\n",
        "\n",
        "Conforme avancemos en la clase, moveremos los proyectos fuera de google colab y tendran que usar archivos de python regulares. Para esto les recomiendo el uso de [anaconda](https://www.anaconda.com/products/distribution) para administrar sus ambientes. Por lo anterior es importante que se familiaricen con github, pero no se preocupen!! durante el curso veremos mas al respecto.\n",
        "\n",
        "## Notas generales:\n",
        "* Todas las entregas son hasta el final de dia indicado. Sin embargo, **se deducirán puntos por entregas tardias y no se aceptan entregas con más de dos dias de retraso.**\n",
        "* Cada semana subiré un ejercicio nuevo a blackboard como enlace al google colab correspondiente.\n",
        "* Los ejercicios tienen tiempo de entrega de 1 semana, los proyectos pueden ser de 1 o 2 semanas.\n",
        "* A pesar de que más de una persona puede acceder a colab al mismo tiempo, el manejo de versión es dificl de rastrear. Por lo anterior, les recomiendo realicen todo su trabajo en github. De esta manera, pueden manejar diferentes versiones de su trabajo y es menos probable que lo pierdan completamente."
      ]
    },
    {
      "cell_type": "markdown",
      "metadata": {
        "id": "eb1jhPvtPIfi"
      },
      "source": [
        "# 3. Ejecutrar celdas de código\n",
        "Para ejecutar una celda activa puedes:\n",
        "*   Hacer click en el boton de correr (flecha) en la izquierda de la celda\n",
        "*   Hacer `CTRL+Enter`\n",
        "\n",
        "El resultado de cada celda se muestra debajo de la misma. El número a la izquierda de la celda muestra en que orden se han corrido las celdas. Si la celda muestra `[*]`, significa que la celda está corriendo actualmente.\n",
        "\n",
        "Puedes ejecutar las celdas en *cualquier orden*. No necesariamente tiene que ser de arriba hacia abajo. Esto significa que el orden en el cual corres las celdas afecta tus variables. Considera que esto puede causar problemas durante el desarrollo.\n",
        "\n",
        "**Sin embargo, tus notebook deberán correr correctamente ejecutándose de principio a fin**\n",
        "\n",
        "Para esto puedes ir a `Runtime-> Restart and run all...`\n",
        "\n",
        "Para practicar el orden de las celdas, puedes utilizar las siguientes celdas como ejemplo."
      ]
    },
    {
      "cell_type": "code",
      "execution_count": 4,
      "metadata": {
        "colab": {
          "base_uri": "https://localhost:8080/"
        },
        "id": "v-7y3VhFQ0Z_",
        "outputId": "a88b9128-5d56-4e61-edfb-8adbadfa6252"
      },
      "outputs": [
        {
          "name": "stdout",
          "output_type": "stream",
          "text": [
            "Hola nano\n"
          ]
        }
      ],
      "source": [
        "hola(a)\n",
        "a = \"gente\""
      ]
    },
    {
      "cell_type": "code",
      "execution_count": 3,
      "metadata": {
        "id": "OjgcmRJPQ8s3"
      },
      "outputs": [],
      "source": [
        "a = \"Andrea\"\n",
        "def hola(sujeto):\n",
        "  print(\"Hola %s\" %sujeto)"
      ]
    },
    {
      "cell_type": "code",
      "execution_count": 3,
      "metadata": {
        "colab": {
          "base_uri": "https://localhost:8080/"
        },
        "id": "v-7y3VhFQ0Z_",
        "outputId": "a88b9128-5d56-4e61-edfb-8adbadfa6252"
      },
      "outputs": [
        {
          "name": "stdout",
          "output_type": "stream",
          "text": [
            "Hola mundo\n"
          ]
        }
      ],
      "source": [
        "hola(a)\n",
        "a = \"gente\""
      ]
    },
    {
      "cell_type": "markdown",
      "metadata": {
        "id": "YH8lkJeu5CRW"
      },
      "source": [
        "`# TODO: `\n",
        "Intenta agregar una celda nueva de código y texto. Ademas intenta mover el orden y observa como afecta al cuaderno."
      ]
    },
    {
      "cell_type": "markdown",
      "metadata": {
        "id": "90EL3W0EZobh"
      },
      "source": [
        "# 4. Introducción a Python\n",
        "Estamos listos para comenzar el primer ejercicio del curso. En este ejercicio aprenderás el uso básico de el lenguaje de programación python. Además aprenderás a hacer uso de numpy para diversas operaciones con vectores, matrices y tensores.\n",
        "\n",
        "Todos los ejercicios del curso están en la forma de funciones de Python. El cuerpo de la función está dado y solo tienes que agregar el código funcional necesario. Aquí esta un ejemplo:"
      ]
    },
    {
      "cell_type": "code",
      "execution_count": 4,
      "metadata": {
        "id": "QxHe_TqgZ-CJ"
      },
      "outputs": [],
      "source": [
        "def funcion_ejemplo(a):\n",
        "  # TODO\n",
        "  # Regresa a por dos\n",
        "  pass"
      ]
    },
    {
      "cell_type": "markdown",
      "metadata": {
        "id": "iYnmNl7maEKQ"
      },
      "source": [
        "En tu ejercicio entonces regresarías la operación *a por dos*. Se vería de esta forma"
      ]
    },
    {
      "cell_type": "code",
      "execution_count": 5,
      "metadata": {
        "id": "DeMtbmdaaLxZ"
      },
      "outputs": [],
      "source": [
        "def funcion_ejemplo(a):\n",
        "  # TODO\n",
        "  return a*2"
      ]
    },
    {
      "cell_type": "markdown",
      "metadata": {
        "id": "HGGz7ASFaQRY"
      },
      "source": [
        "Después de escribir esta línea y correrla puedes usar la función en cualquier bloque de codigo futuro:"
      ]
    },
    {
      "cell_type": "code",
      "execution_count": 6,
      "metadata": {
        "colab": {
          "base_uri": "https://localhost:8080/"
        },
        "id": "8MpPr-1_aaYn",
        "outputId": "16ed1d37-58d2-431e-f2a1-4adef1731086"
      },
      "outputs": [
        {
          "name": "stdout",
          "output_type": "stream",
          "text": [
            "resultado de 2.5 por dos\n"
          ]
        },
        {
          "data": {
            "text/plain": [
              "5.0"
            ]
          },
          "execution_count": 6,
          "metadata": {},
          "output_type": "execute_result"
        }
      ],
      "source": [
        "print(\"resultado de 2.5 por dos\")\n",
        "funcion_ejemplo(2.5)"
      ]
    },
    {
      "cell_type": "markdown",
      "metadata": {
        "id": "lGDPLjZE3s_w"
      },
      "source": [
        "## Variables en python\n",
        "En Python, no es necesario declarar variables. En cambio al momento de inicializar una variable, el lenguaje determina el tipo de dato en función del valor que se le asigne"
      ]
    },
    {
      "cell_type": "code",
      "execution_count": 7,
      "metadata": {
        "id": "41eC8XXe3syI"
      },
      "outputs": [
        {
          "name": "stdout",
          "output_type": "stream",
          "text": [
            "<class 'int'>\n",
            "<class 'float'>\n",
            "<class 'float'>\n"
          ]
        }
      ],
      "source": [
        "x = 1   # Esto se inicializa como int\n",
        "print(type(x))\n",
        "\n",
        "y = 1.0 # Esto se inicializa como float\n",
        "print(type(y))\n",
        "\n",
        "z = x + y # Esta variable será de tipo float ya que es más general que entero.\n",
        "print(type(z))"
      ]
    },
    {
      "cell_type": "markdown",
      "metadata": {
        "id": "nSvrwx1738zY"
      },
      "source": [
        "### Variables string"
      ]
    },
    {
      "cell_type": "code",
      "execution_count": 8,
      "metadata": {
        "id": "5SKPKQMn3y3o"
      },
      "outputs": [
        {
          "name": "stdout",
          "output_type": "stream",
          "text": [
            "hola 2.0\n",
            "<class 'str'>\n",
            "Hola: x es 1, y es 1.000000\n",
            "Hola: x es 01, y es 1.00\n",
            "Hola: x es 1, y es 1.0\n",
            "Hola: x es 01, y es 1.00\n"
          ]
        }
      ],
      "source": [
        "s = \"hola\"  # Esta variable es string\n",
        "print(s + \" \" + str(z))  # Imprimine hola 2.0\n",
        "print(type(s))\n",
        "\n",
        "# Para concatenar valores a un string, se utiliza %d para valores enteros y %f para valores float\n",
        "print(\"Hola: x es %d, y es %f\" %(x,y)) \n",
        "\n",
        "# Para restringir definir la cantidad de caracteres se usa asi:\n",
        "print(\"Hola: x es %02d, y es %.2f\" %(x,y))\n",
        "\n",
        "# Equivalentemente se puede hacer de la siguiente manera\n",
        "print(f\"Hola: x es {x}, y es {y}\")\n",
        "print(f\"Hola: x es {x:02d}, y es {y:.2f}\")"
      ]
    },
    {
      "cell_type": "markdown",
      "metadata": {
        "id": "nh23twA-37ZQ"
      },
      "source": [
        "### Diccionarios y listas"
      ]
    },
    {
      "cell_type": "code",
      "execution_count": 9,
      "metadata": {
        "id": "l0L2IDkC32jg"
      },
      "outputs": [
        {
          "name": "stdout",
          "output_type": "stream",
          "text": [
            "{'llave': 1}\n",
            "{'llave': 1, 'nueva llave': 5}\n",
            "[1, 2, 3]\n",
            "[1, 2, 3, 4, 5]\n",
            "[1, 2, 3, 4, 5, 6]\n"
          ]
        }
      ],
      "source": [
        "# Diccionarios\n",
        "valor = 1\n",
        "d = {\"llave\": valor}\n",
        "print(d)\n",
        "d[\"nueva llave\"] = 5\n",
        "print(d)\n",
        "\n",
        "# En python, todos los arreglos son listas\n",
        "a = [1, 2, 3]\n",
        "print(a)\n",
        "a.extend([4, 5])\n",
        "print(a)\n",
        "a.append(6)\n",
        "print(a)"
      ]
    },
    {
      "cell_type": "markdown",
      "metadata": {
        "id": "ZfFohFoZ36CI"
      },
      "source": [
        "### For loops"
      ]
    },
    {
      "cell_type": "code",
      "execution_count": 10,
      "metadata": {
        "id": "bTDjes2635sS"
      },
      "outputs": [
        {
          "name": "stdout",
          "output_type": "stream",
          "text": [
            "ciclo 0\n",
            "ciclo 1\n",
            "ciclo 2\n",
            "ciclo 3\n",
            "ciclo 4\n",
            "[5, 6, 8, 1, 3, 4]\n",
            "[1, 3, 4, 5, 6, 8]\n"
          ]
        }
      ],
      "source": [
        "# For loops\n",
        "for i in range(5):\n",
        "  print(f\"ciclo {i}\")\n",
        "\n",
        "# ordenar listas\n",
        "lista = [5, 6, 8, 1, 3, 4]\n",
        "print(lista)\n",
        "lista.sort()\n",
        "print(lista)"
      ]
    },
    {
      "attachments": {},
      "cell_type": "markdown",
      "metadata": {
        "id": "wDKnoeFR3luY"
      },
      "source": [
        "## Tu turno!\n",
        "Para practicar el uso de listas y syntaxis de python, resuelve el siguiente problema: \n",
        "\n",
        "Dado una lista `nums`, por cada `nums[i]` encuentra cuantos números en la lista son menores que el. Es decir, por cada `nums[i]` tienes que contar cuantas `j's` válidas existen tal que `j != i` y `nums[j] < nums[i]`:\n",
        "\n",
        "Ejemplo:\n",
        "\n",
        "```\n",
        "Entrada: nums = [8, 1, 2, 2, 3]\n",
        "Salida: [4, 0, 1, 1, 3]\n",
        "Explicación:\n",
        "Para nums[0] = 8 existen 4 numeros menores en nums (1, 2, 2, 3)\n",
        "Para nums[1] = 1 no existe un número menor\n",
        "Para nums[2] = 2 existen 1 número menor (1)\n",
        "Para nums[3] = 2 existen 1 número menor (1)\n",
        "Para nums[4] = 3 existen 3 numeros menores en nums (1, 2, 2)\n",
        "```\n",
        "\n",
        "No es necesario que la solución sea óptima. El objetivo de esto es que practiquen el uso de python. Los casos de prueba están para que puedan verificar el funcionamiento de su método. "
      ]
    },
    {
      "cell_type": "code",
      "execution_count": 11,
      "metadata": {
        "id": "W1DQYDZy4OLd"
      },
      "outputs": [],
      "source": [
        "def numeroMenorQue(nums):\n",
        "  # TODO: Completa el método\n",
        "  output = []\n",
        "  return output"
      ]
    },
    {
      "cell_type": "markdown",
      "metadata": {
        "id": "ZFubUj8r4QXG"
      },
      "source": [
        "**Prueba tu solución**"
      ]
    },
    {
      "cell_type": "code",
      "execution_count": 12,
      "metadata": {
        "id": "pyjINCPj4PZE"
      },
      "outputs": [
        {
          "name": "stdout",
          "output_type": "stream",
          "text": [
            "[]\n",
            "[]\n",
            "tu solución es incorrecta\n"
          ]
        }
      ],
      "source": [
        "test_cases = [[6, 5, 4, 8], [7, 7, 7, 7]]\n",
        "solutions = [[2, 1, 0, 3], [0, 0, 0, 0]]\n",
        "correcto = True\n",
        "for caso, sol in zip(test_cases, solutions):\n",
        "  res = numeroMenorQue(caso)\n",
        "  print(res)\n",
        "  if((sol != res)):\n",
        "    correcto = False\n",
        "  \n",
        "s = \"correcta\" if correcto else \"incorrecta\"\n",
        "print(\"tu solución es \"+ s)"
      ]
    },
    {
      "cell_type": "markdown",
      "metadata": {
        "id": "g-ySoAQW3VQw"
      },
      "source": [
        "# 4. Graficar datos usando matplotlib\n",
        "\n",
        "Una ventaja muy grande de este cuaderno, es que puedes graficar directamente usando matplotlib.\n",
        "\n",
        "**NOTA: Para activar esta función neesitas agregar el siguiente comando *mágico***\n",
        "\n",
        "*-> Ejecuta las siguientes celdas*"
      ]
    },
    {
      "cell_type": "code",
      "execution_count": 15,
      "metadata": {
        "id": "s0fja5Kw3TTg"
      },
      "outputs": [],
      "source": [
        "%matplotlib inline"
      ]
    },
    {
      "cell_type": "markdown",
      "metadata": {
        "id": "74flHjRA3X_4"
      },
      "source": [
        "Ejemplo:"
      ]
    },
    {
      "cell_type": "code",
      "execution_count": 14,
      "metadata": {
        "id": "Rpul7RwO3ahJ"
      },
      "outputs": [
        {
          "data": {
            "application/javascript": "/* Put everything inside the global mpl namespace */\nwindow.mpl = {};\n\n\nmpl.get_websocket_type = function() {\n    if (typeof(WebSocket) !== 'undefined') {\n        return WebSocket;\n    } else if (typeof(MozWebSocket) !== 'undefined') {\n        return MozWebSocket;\n    } else {\n        alert('Your browser does not have WebSocket support. ' +\n              'Please try Chrome, Safari or Firefox ≥ 6. ' +\n              'Firefox 4 and 5 are also supported but you ' +\n              'have to enable WebSockets in about:config.');\n    };\n}\n\nmpl.figure = function(figure_id, websocket, ondownload, parent_element) {\n    this.id = figure_id;\n\n    this.ws = websocket;\n\n    this.supports_binary = (this.ws.binaryType != undefined);\n\n    if (!this.supports_binary) {\n        var warnings = document.getElementById(\"mpl-warnings\");\n        if (warnings) {\n            warnings.style.display = 'block';\n            warnings.textContent = (\n                \"This browser does not support binary websocket messages. \" +\n                    \"Performance may be slow.\");\n        }\n    }\n\n    this.imageObj = new Image();\n\n    this.context = undefined;\n    this.message = undefined;\n    this.canvas = undefined;\n    this.rubberband_canvas = undefined;\n    this.rubberband_context = undefined;\n    this.format_dropdown = undefined;\n\n    this.image_mode = 'full';\n\n    this.root = $('<div/>');\n    this._root_extra_style(this.root)\n    this.root.attr('style', 'display: inline-block');\n\n    $(parent_element).append(this.root);\n\n    this._init_header(this);\n    this._init_canvas(this);\n    this._init_toolbar(this);\n\n    var fig = this;\n\n    this.waiting = false;\n\n    this.ws.onopen =  function () {\n            fig.send_message(\"supports_binary\", {value: fig.supports_binary});\n            fig.send_message(\"send_image_mode\", {});\n            if (mpl.ratio != 1) {\n                fig.send_message(\"set_dpi_ratio\", {'dpi_ratio': mpl.ratio});\n            }\n            fig.send_message(\"refresh\", {});\n        }\n\n    this.imageObj.onload = function() {\n            if (fig.image_mode == 'full') {\n                // Full images could contain transparency (where diff images\n                // almost always do), so we need to clear the canvas so that\n                // there is no ghosting.\n                fig.context.clearRect(0, 0, fig.canvas.width, fig.canvas.height);\n            }\n            fig.context.drawImage(fig.imageObj, 0, 0);\n        };\n\n    this.imageObj.onunload = function() {\n        fig.ws.close();\n    }\n\n    this.ws.onmessage = this._make_on_message_function(this);\n\n    this.ondownload = ondownload;\n}\n\nmpl.figure.prototype._init_header = function() {\n    var titlebar = $(\n        '<div class=\"ui-dialog-titlebar ui-widget-header ui-corner-all ' +\n        'ui-helper-clearfix\"/>');\n    var titletext = $(\n        '<div class=\"ui-dialog-title\" style=\"width: 100%; ' +\n        'text-align: center; padding: 3px;\"/>');\n    titlebar.append(titletext)\n    this.root.append(titlebar);\n    this.header = titletext[0];\n}\n\n\n\nmpl.figure.prototype._canvas_extra_style = function(canvas_div) {\n\n}\n\n\nmpl.figure.prototype._root_extra_style = function(canvas_div) {\n\n}\n\nmpl.figure.prototype._init_canvas = function() {\n    var fig = this;\n\n    var canvas_div = $('<div/>');\n\n    canvas_div.attr('style', 'position: relative; clear: both; outline: 0');\n\n    function canvas_keyboard_event(event) {\n        return fig.key_event(event, event['data']);\n    }\n\n    canvas_div.keydown('key_press', canvas_keyboard_event);\n    canvas_div.keyup('key_release', canvas_keyboard_event);\n    this.canvas_div = canvas_div\n    this._canvas_extra_style(canvas_div)\n    this.root.append(canvas_div);\n\n    var canvas = $('<canvas/>');\n    canvas.addClass('mpl-canvas');\n    canvas.attr('style', \"left: 0; top: 0; z-index: 0; outline: 0\")\n\n    this.canvas = canvas[0];\n    this.context = canvas[0].getContext(\"2d\");\n\n    var backingStore = this.context.backingStorePixelRatio ||\n\tthis.context.webkitBackingStorePixelRatio ||\n\tthis.context.mozBackingStorePixelRatio ||\n\tthis.context.msBackingStorePixelRatio ||\n\tthis.context.oBackingStorePixelRatio ||\n\tthis.context.backingStorePixelRatio || 1;\n\n    mpl.ratio = (window.devicePixelRatio || 1) / backingStore;\n\n    var rubberband = $('<canvas/>');\n    rubberband.attr('style', \"position: absolute; left: 0; top: 0; z-index: 1;\")\n\n    var pass_mouse_events = true;\n\n    canvas_div.resizable({\n        start: function(event, ui) {\n            pass_mouse_events = false;\n        },\n        resize: function(event, ui) {\n            fig.request_resize(ui.size.width, ui.size.height);\n        },\n        stop: function(event, ui) {\n            pass_mouse_events = true;\n            fig.request_resize(ui.size.width, ui.size.height);\n        },\n    });\n\n    function mouse_event_fn(event) {\n        if (pass_mouse_events)\n            return fig.mouse_event(event, event['data']);\n    }\n\n    rubberband.mousedown('button_press', mouse_event_fn);\n    rubberband.mouseup('button_release', mouse_event_fn);\n    // Throttle sequential mouse events to 1 every 20ms.\n    rubberband.mousemove('motion_notify', mouse_event_fn);\n\n    rubberband.mouseenter('figure_enter', mouse_event_fn);\n    rubberband.mouseleave('figure_leave', mouse_event_fn);\n\n    canvas_div.on(\"wheel\", function (event) {\n        event = event.originalEvent;\n        event['data'] = 'scroll'\n        if (event.deltaY < 0) {\n            event.step = 1;\n        } else {\n            event.step = -1;\n        }\n        mouse_event_fn(event);\n    });\n\n    canvas_div.append(canvas);\n    canvas_div.append(rubberband);\n\n    this.rubberband = rubberband;\n    this.rubberband_canvas = rubberband[0];\n    this.rubberband_context = rubberband[0].getContext(\"2d\");\n    this.rubberband_context.strokeStyle = \"#000000\";\n\n    this._resize_canvas = function(width, height) {\n        // Keep the size of the canvas, canvas container, and rubber band\n        // canvas in synch.\n        canvas_div.css('width', width)\n        canvas_div.css('height', height)\n\n        canvas.attr('width', width * mpl.ratio);\n        canvas.attr('height', height * mpl.ratio);\n        canvas.attr('style', 'width: ' + width + 'px; height: ' + height + 'px;');\n\n        rubberband.attr('width', width);\n        rubberband.attr('height', height);\n    }\n\n    // Set the figure to an initial 600x600px, this will subsequently be updated\n    // upon first draw.\n    this._resize_canvas(600, 600);\n\n    // Disable right mouse context menu.\n    $(this.rubberband_canvas).bind(\"contextmenu\",function(e){\n        return false;\n    });\n\n    function set_focus () {\n        canvas.focus();\n        canvas_div.focus();\n    }\n\n    window.setTimeout(set_focus, 100);\n}\n\nmpl.figure.prototype._init_toolbar = function() {\n    var fig = this;\n\n    var nav_element = $('<div/>');\n    nav_element.attr('style', 'width: 100%');\n    this.root.append(nav_element);\n\n    // Define a callback function for later on.\n    function toolbar_event(event) {\n        return fig.toolbar_button_onclick(event['data']);\n    }\n    function toolbar_mouse_event(event) {\n        return fig.toolbar_button_onmouseover(event['data']);\n    }\n\n    for(var toolbar_ind in mpl.toolbar_items) {\n        var name = mpl.toolbar_items[toolbar_ind][0];\n        var tooltip = mpl.toolbar_items[toolbar_ind][1];\n        var image = mpl.toolbar_items[toolbar_ind][2];\n        var method_name = mpl.toolbar_items[toolbar_ind][3];\n\n        if (!name) {\n            // put a spacer in here.\n            continue;\n        }\n        var button = $('<button/>');\n        button.addClass('ui-button ui-widget ui-state-default ui-corner-all ' +\n                        'ui-button-icon-only');\n        button.attr('role', 'button');\n        button.attr('aria-disabled', 'false');\n        button.click(method_name, toolbar_event);\n        button.mouseover(tooltip, toolbar_mouse_event);\n\n        var icon_img = $('<span/>');\n        icon_img.addClass('ui-button-icon-primary ui-icon');\n        icon_img.addClass(image);\n        icon_img.addClass('ui-corner-all');\n\n        var tooltip_span = $('<span/>');\n        tooltip_span.addClass('ui-button-text');\n        tooltip_span.html(tooltip);\n\n        button.append(icon_img);\n        button.append(tooltip_span);\n\n        nav_element.append(button);\n    }\n\n    var fmt_picker_span = $('<span/>');\n\n    var fmt_picker = $('<select/>');\n    fmt_picker.addClass('mpl-toolbar-option ui-widget ui-widget-content');\n    fmt_picker_span.append(fmt_picker);\n    nav_element.append(fmt_picker_span);\n    this.format_dropdown = fmt_picker[0];\n\n    for (var ind in mpl.extensions) {\n        var fmt = mpl.extensions[ind];\n        var option = $(\n            '<option/>', {selected: fmt === mpl.default_extension}).html(fmt);\n        fmt_picker.append(option);\n    }\n\n    // Add hover states to the ui-buttons\n    $( \".ui-button\" ).hover(\n        function() { $(this).addClass(\"ui-state-hover\");},\n        function() { $(this).removeClass(\"ui-state-hover\");}\n    );\n\n    var status_bar = $('<span class=\"mpl-message\"/>');\n    nav_element.append(status_bar);\n    this.message = status_bar[0];\n}\n\nmpl.figure.prototype.request_resize = function(x_pixels, y_pixels) {\n    // Request matplotlib to resize the figure. Matplotlib will then trigger a resize in the client,\n    // which will in turn request a refresh of the image.\n    this.send_message('resize', {'width': x_pixels, 'height': y_pixels});\n}\n\nmpl.figure.prototype.send_message = function(type, properties) {\n    properties['type'] = type;\n    properties['figure_id'] = this.id;\n    this.ws.send(JSON.stringify(properties));\n}\n\nmpl.figure.prototype.send_draw_message = function() {\n    if (!this.waiting) {\n        this.waiting = true;\n        this.ws.send(JSON.stringify({type: \"draw\", figure_id: this.id}));\n    }\n}\n\n\nmpl.figure.prototype.handle_save = function(fig, msg) {\n    var format_dropdown = fig.format_dropdown;\n    var format = format_dropdown.options[format_dropdown.selectedIndex].value;\n    fig.ondownload(fig, format);\n}\n\n\nmpl.figure.prototype.handle_resize = function(fig, msg) {\n    var size = msg['size'];\n    if (size[0] != fig.canvas.width || size[1] != fig.canvas.height) {\n        fig._resize_canvas(size[0], size[1]);\n        fig.send_message(\"refresh\", {});\n    };\n}\n\nmpl.figure.prototype.handle_rubberband = function(fig, msg) {\n    var x0 = msg['x0'] / mpl.ratio;\n    var y0 = (fig.canvas.height - msg['y0']) / mpl.ratio;\n    var x1 = msg['x1'] / mpl.ratio;\n    var y1 = (fig.canvas.height - msg['y1']) / mpl.ratio;\n    x0 = Math.floor(x0) + 0.5;\n    y0 = Math.floor(y0) + 0.5;\n    x1 = Math.floor(x1) + 0.5;\n    y1 = Math.floor(y1) + 0.5;\n    var min_x = Math.min(x0, x1);\n    var min_y = Math.min(y0, y1);\n    var width = Math.abs(x1 - x0);\n    var height = Math.abs(y1 - y0);\n\n    fig.rubberband_context.clearRect(\n        0, 0, fig.canvas.width / mpl.ratio, fig.canvas.height / mpl.ratio);\n\n    fig.rubberband_context.strokeRect(min_x, min_y, width, height);\n}\n\nmpl.figure.prototype.handle_figure_label = function(fig, msg) {\n    // Updates the figure title.\n    fig.header.textContent = msg['label'];\n}\n\nmpl.figure.prototype.handle_cursor = function(fig, msg) {\n    var cursor = msg['cursor'];\n    switch(cursor)\n    {\n    case 0:\n        cursor = 'pointer';\n        break;\n    case 1:\n        cursor = 'default';\n        break;\n    case 2:\n        cursor = 'crosshair';\n        break;\n    case 3:\n        cursor = 'move';\n        break;\n    }\n    fig.rubberband_canvas.style.cursor = cursor;\n}\n\nmpl.figure.prototype.handle_message = function(fig, msg) {\n    fig.message.textContent = msg['message'];\n}\n\nmpl.figure.prototype.handle_draw = function(fig, msg) {\n    // Request the server to send over a new figure.\n    fig.send_draw_message();\n}\n\nmpl.figure.prototype.handle_image_mode = function(fig, msg) {\n    fig.image_mode = msg['mode'];\n}\n\nmpl.figure.prototype.updated_canvas_event = function() {\n    // Called whenever the canvas gets updated.\n    this.send_message(\"ack\", {});\n}\n\n// A function to construct a web socket function for onmessage handling.\n// Called in the figure constructor.\nmpl.figure.prototype._make_on_message_function = function(fig) {\n    return function socket_on_message(evt) {\n        if (evt.data instanceof Blob) {\n            /* FIXME: We get \"Resource interpreted as Image but\n             * transferred with MIME type text/plain:\" errors on\n             * Chrome.  But how to set the MIME type?  It doesn't seem\n             * to be part of the websocket stream */\n            evt.data.type = \"image/png\";\n\n            /* Free the memory for the previous frames */\n            if (fig.imageObj.src) {\n                (window.URL || window.webkitURL).revokeObjectURL(\n                    fig.imageObj.src);\n            }\n\n            fig.imageObj.src = (window.URL || window.webkitURL).createObjectURL(\n                evt.data);\n            fig.updated_canvas_event();\n            fig.waiting = false;\n            return;\n        }\n        else if (typeof evt.data === 'string' && evt.data.slice(0, 21) == \"data:image/png;base64\") {\n            fig.imageObj.src = evt.data;\n            fig.updated_canvas_event();\n            fig.waiting = false;\n            return;\n        }\n\n        var msg = JSON.parse(evt.data);\n        var msg_type = msg['type'];\n\n        // Call the  \"handle_{type}\" callback, which takes\n        // the figure and JSON message as its only arguments.\n        try {\n            var callback = fig[\"handle_\" + msg_type];\n        } catch (e) {\n            console.log(\"No handler for the '\" + msg_type + \"' message type: \", msg);\n            return;\n        }\n\n        if (callback) {\n            try {\n                // console.log(\"Handling '\" + msg_type + \"' message: \", msg);\n                callback(fig, msg);\n            } catch (e) {\n                console.log(\"Exception inside the 'handler_\" + msg_type + \"' callback:\", e, e.stack, msg);\n            }\n        }\n    };\n}\n\n// from http://stackoverflow.com/questions/1114465/getting-mouse-location-in-canvas\nmpl.findpos = function(e) {\n    //this section is from http://www.quirksmode.org/js/events_properties.html\n    var targ;\n    if (!e)\n        e = window.event;\n    if (e.target)\n        targ = e.target;\n    else if (e.srcElement)\n        targ = e.srcElement;\n    if (targ.nodeType == 3) // defeat Safari bug\n        targ = targ.parentNode;\n\n    // jQuery normalizes the pageX and pageY\n    // pageX,Y are the mouse positions relative to the document\n    // offset() returns the position of the element relative to the document\n    var x = e.pageX - $(targ).offset().left;\n    var y = e.pageY - $(targ).offset().top;\n\n    return {\"x\": x, \"y\": y};\n};\n\n/*\n * return a copy of an object with only non-object keys\n * we need this to avoid circular references\n * http://stackoverflow.com/a/24161582/3208463\n */\nfunction simpleKeys (original) {\n  return Object.keys(original).reduce(function (obj, key) {\n    if (typeof original[key] !== 'object')\n        obj[key] = original[key]\n    return obj;\n  }, {});\n}\n\nmpl.figure.prototype.mouse_event = function(event, name) {\n    var canvas_pos = mpl.findpos(event)\n\n    if (name === 'button_press')\n    {\n        this.canvas.focus();\n        this.canvas_div.focus();\n    }\n\n    var x = canvas_pos.x * mpl.ratio;\n    var y = canvas_pos.y * mpl.ratio;\n\n    this.send_message(name, {x: x, y: y, button: event.button,\n                             step: event.step,\n                             guiEvent: simpleKeys(event)});\n\n    /* This prevents the web browser from automatically changing to\n     * the text insertion cursor when the button is pressed.  We want\n     * to control all of the cursor setting manually through the\n     * 'cursor' event from matplotlib */\n    event.preventDefault();\n    return false;\n}\n\nmpl.figure.prototype._key_event_extra = function(event, name) {\n    // Handle any extra behaviour associated with a key event\n}\n\nmpl.figure.prototype.key_event = function(event, name) {\n\n    // Prevent repeat events\n    if (name == 'key_press')\n    {\n        if (event.which === this._key)\n            return;\n        else\n            this._key = event.which;\n    }\n    if (name == 'key_release')\n        this._key = null;\n\n    var value = '';\n    if (event.ctrlKey && event.which != 17)\n        value += \"ctrl+\";\n    if (event.altKey && event.which != 18)\n        value += \"alt+\";\n    if (event.shiftKey && event.which != 16)\n        value += \"shift+\";\n\n    value += 'k';\n    value += event.which.toString();\n\n    this._key_event_extra(event, name);\n\n    this.send_message(name, {key: value,\n                             guiEvent: simpleKeys(event)});\n    return false;\n}\n\nmpl.figure.prototype.toolbar_button_onclick = function(name) {\n    if (name == 'download') {\n        this.handle_save(this, null);\n    } else {\n        this.send_message(\"toolbar_button\", {name: name});\n    }\n};\n\nmpl.figure.prototype.toolbar_button_onmouseover = function(tooltip) {\n    this.message.textContent = tooltip;\n};\nmpl.toolbar_items = [[\"Home\", \"Reset original view\", \"fa fa-home icon-home\", \"home\"], [\"Back\", \"Back to previous view\", \"fa fa-arrow-left icon-arrow-left\", \"back\"], [\"Forward\", \"Forward to next view\", \"fa fa-arrow-right icon-arrow-right\", \"forward\"], [\"\", \"\", \"\", \"\"], [\"Pan\", \"Pan axes with left mouse, zoom with right\", \"fa fa-arrows icon-move\", \"pan\"], [\"Zoom\", \"Zoom to rectangle\", \"fa fa-square-o icon-check-empty\", \"zoom\"], [\"\", \"\", \"\", \"\"], [\"Download\", \"Download plot\", \"fa fa-floppy-o icon-save\", \"download\"]];\n\nmpl.extensions = [\"eps\", \"jpeg\", \"pdf\", \"png\", \"ps\", \"raw\", \"svg\", \"tif\"];\n\nmpl.default_extension = \"png\";var comm_websocket_adapter = function(comm) {\n    // Create a \"websocket\"-like object which calls the given IPython comm\n    // object with the appropriate methods. Currently this is a non binary\n    // socket, so there is still some room for performance tuning.\n    var ws = {};\n\n    ws.close = function() {\n        comm.close()\n    };\n    ws.send = function(m) {\n        //console.log('sending', m);\n        comm.send(m);\n    };\n    // Register the callback with on_msg.\n    comm.on_msg(function(msg) {\n        //console.log('receiving', msg['content']['data'], msg);\n        // Pass the mpl event to the overridden (by mpl) onmessage function.\n        ws.onmessage(msg['content']['data'])\n    });\n    return ws;\n}\n\nmpl.mpl_figure_comm = function(comm, msg) {\n    // This is the function which gets called when the mpl process\n    // starts-up an IPython Comm through the \"matplotlib\" channel.\n\n    var id = msg.content.data.id;\n    // Get hold of the div created by the display call when the Comm\n    // socket was opened in Python.\n    var element = $(\"#\" + id);\n    var ws_proxy = comm_websocket_adapter(comm)\n\n    function ondownload(figure, format) {\n        window.open(figure.imageObj.src);\n    }\n\n    var fig = new mpl.figure(id, ws_proxy,\n                           ondownload,\n                           element.get(0));\n\n    // Call onopen now - mpl needs it, as it is assuming we've passed it a real\n    // web socket which is closed, not our websocket->open comm proxy.\n    ws_proxy.onopen();\n\n    fig.parent_element = element.get(0);\n    fig.cell_info = mpl.find_output_cell(\"<div id='\" + id + \"'></div>\");\n    if (!fig.cell_info) {\n        console.error(\"Failed to find cell for figure\", id, fig);\n        return;\n    }\n\n    var output_index = fig.cell_info[2]\n    var cell = fig.cell_info[0];\n\n};\n\nmpl.figure.prototype.handle_close = function(fig, msg) {\n    var width = fig.canvas.width/mpl.ratio\n    fig.root.unbind('remove')\n\n    // Update the output cell to use the data from the current canvas.\n    fig.push_to_output();\n    var dataURL = fig.canvas.toDataURL();\n    // Re-enable the keyboard manager in IPython - without this line, in FF,\n    // the notebook keyboard shortcuts fail.\n    IPython.keyboard_manager.enable()\n    $(fig.parent_element).html('<img src=\"' + dataURL + '\" width=\"' + width + '\">');\n    fig.close_ws(fig, msg);\n}\n\nmpl.figure.prototype.close_ws = function(fig, msg){\n    fig.send_message('closing', msg);\n    // fig.ws.close()\n}\n\nmpl.figure.prototype.push_to_output = function(remove_interactive) {\n    // Turn the data on the canvas into data in the output cell.\n    var width = this.canvas.width/mpl.ratio\n    var dataURL = this.canvas.toDataURL();\n    this.cell_info[1]['text/html'] = '<img src=\"' + dataURL + '\" width=\"' + width + '\">';\n}\n\nmpl.figure.prototype.updated_canvas_event = function() {\n    // Tell IPython that the notebook contents must change.\n    IPython.notebook.set_dirty(true);\n    this.send_message(\"ack\", {});\n    var fig = this;\n    // Wait a second, then push the new image to the DOM so\n    // that it is saved nicely (might be nice to debounce this).\n    setTimeout(function () { fig.push_to_output() }, 1000);\n}\n\nmpl.figure.prototype._init_toolbar = function() {\n    var fig = this;\n\n    var nav_element = $('<div/>');\n    nav_element.attr('style', 'width: 100%');\n    this.root.append(nav_element);\n\n    // Define a callback function for later on.\n    function toolbar_event(event) {\n        return fig.toolbar_button_onclick(event['data']);\n    }\n    function toolbar_mouse_event(event) {\n        return fig.toolbar_button_onmouseover(event['data']);\n    }\n\n    for(var toolbar_ind in mpl.toolbar_items){\n        var name = mpl.toolbar_items[toolbar_ind][0];\n        var tooltip = mpl.toolbar_items[toolbar_ind][1];\n        var image = mpl.toolbar_items[toolbar_ind][2];\n        var method_name = mpl.toolbar_items[toolbar_ind][3];\n\n        if (!name) { continue; };\n\n        var button = $('<button class=\"btn btn-default\" href=\"#\" title=\"' + name + '\"><i class=\"fa ' + image + ' fa-lg\"></i></button>');\n        button.click(method_name, toolbar_event);\n        button.mouseover(tooltip, toolbar_mouse_event);\n        nav_element.append(button);\n    }\n\n    // Add the status bar.\n    var status_bar = $('<span class=\"mpl-message\" style=\"text-align:right; float: right;\"/>');\n    nav_element.append(status_bar);\n    this.message = status_bar[0];\n\n    // Add the close button to the window.\n    var buttongrp = $('<div class=\"btn-group inline pull-right\"></div>');\n    var button = $('<button class=\"btn btn-mini btn-primary\" href=\"#\" title=\"Stop Interaction\"><i class=\"fa fa-power-off icon-remove icon-large\"></i></button>');\n    button.click(function (evt) { fig.handle_close(fig, {}); } );\n    button.mouseover('Stop Interaction', toolbar_mouse_event);\n    buttongrp.append(button);\n    var titlebar = this.root.find($('.ui-dialog-titlebar'));\n    titlebar.prepend(buttongrp);\n}\n\nmpl.figure.prototype._root_extra_style = function(el){\n    var fig = this\n    el.on(\"remove\", function(){\n\tfig.close_ws(fig, {});\n    });\n}\n\nmpl.figure.prototype._canvas_extra_style = function(el){\n    // this is important to make the div 'focusable\n    el.attr('tabindex', 0)\n    // reach out to IPython and tell the keyboard manager to turn it's self\n    // off when our div gets focus\n\n    // location in version 3\n    if (IPython.notebook.keyboard_manager) {\n        IPython.notebook.keyboard_manager.register_events(el);\n    }\n    else {\n        // location in version 2\n        IPython.keyboard_manager.register_events(el);\n    }\n\n}\n\nmpl.figure.prototype._key_event_extra = function(event, name) {\n    var manager = IPython.notebook.keyboard_manager;\n    if (!manager)\n        manager = IPython.keyboard_manager;\n\n    // Check for shift+enter\n    if (event.shiftKey && event.which == 13) {\n        this.canvas_div.blur();\n        // select the cell after this one\n        var index = IPython.notebook.find_cell_index(this.cell_info[0]);\n        IPython.notebook.select(index + 1);\n    }\n}\n\nmpl.figure.prototype.handle_save = function(fig, msg) {\n    fig.ondownload(fig, null);\n}\n\n\nmpl.find_output_cell = function(html_output) {\n    // Return the cell and output element which can be found *uniquely* in the notebook.\n    // Note - this is a bit hacky, but it is done because the \"notebook_saving.Notebook\"\n    // IPython event is triggered only after the cells have been serialised, which for\n    // our purposes (turning an active figure into a static one), is too late.\n    var cells = IPython.notebook.get_cells();\n    var ncells = cells.length;\n    for (var i=0; i<ncells; i++) {\n        var cell = cells[i];\n        if (cell.cell_type === 'code'){\n            for (var j=0; j<cell.output_area.outputs.length; j++) {\n                var data = cell.output_area.outputs[j];\n                if (data.data) {\n                    // IPython >= 3 moved mimebundle to data attribute of output\n                    data = data.data;\n                }\n                if (data['text/html'] == html_output) {\n                    return [cell, data, j];\n                }\n            }\n        }\n    }\n}\n\n// Register the function which deals with the matplotlib target/channel.\n// The kernel may be null if the page has been refreshed.\nif (IPython.notebook.kernel != null) {\n    IPython.notebook.kernel.comm_manager.register_target('matplotlib', mpl.mpl_figure_comm);\n}\n",
            "text/plain": [
              "<IPython.core.display.Javascript object>"
            ]
          },
          "metadata": {},
          "output_type": "display_data"
        },
        {
          "data": {
            "text/html": [
              "<div id='5c803151-b04c-46e9-a326-9e664538aa59'></div>"
            ],
            "text/plain": [
              "<IPython.core.display.HTML object>"
            ]
          },
          "metadata": {},
          "output_type": "display_data"
        }
      ],
      "source": [
        "import matplotlib.pyplot as plt\n",
        "import numpy as np\n",
        "\n",
        "x = np.random.randn(100, 1)\n",
        "y = np.random.randn(100, 1)\n",
        "\n",
        "c = np.random.uniform(size = (100, 1))\n",
        "plt.scatter(x, y)\n",
        "plt.show()"
      ]
    }
  ],
  "metadata": {
    "colab": {
      "provenance": []
    },
    "kernelspec": {
      "display_name": "sistemas_inteligentes",
      "language": "python",
      "name": "python3"
    },
    "language_info": {
      "codemirror_mode": {
        "name": "ipython",
        "version": 3
      },
      "file_extension": ".py",
      "mimetype": "text/x-python",
      "name": "python",
      "nbconvert_exporter": "python",
      "pygments_lexer": "ipython3",
      "version": "3.8.15"
    },
    "vscode": {
      "interpreter": {
        "hash": "4b5f13ae9893e6d37aec0411dd16261dca2858d2edbb63123508e704ca863c36"
      }
    }
  },
  "nbformat": 4,
  "nbformat_minor": 0
}
