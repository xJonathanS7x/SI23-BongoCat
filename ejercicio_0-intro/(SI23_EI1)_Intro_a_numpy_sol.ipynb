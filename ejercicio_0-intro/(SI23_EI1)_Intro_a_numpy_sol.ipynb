{
  "cells": [
    {
      "cell_type": "markdown",
      "metadata": {
        "id": "KRrFuyTwXWhs"
      },
      "source": [
        "# Numpy, vectores y matrices\n",
        "\n",
        "1. Introducción a numpy \n",
        "2. Operaciones matemáticas con numpy (TODO)\n",
        "3. Ejercicios de algebra lineal (TODO)\n",
        "\n",
        "# 1. Introducción a numpy\n",
        "---\n",
        "\n",
        "Exploraremos el uso de numpy para diversas operaciones con vectores, matrices y tensores.\n",
        "\n",
        "## Instalación de dependencias\n",
        "\n",
        "El primer paso es configurar nuestro ambiente. Para eso tenemos que instalar dependencias que no son nativas de python (En este caso [numpy](https://numpy.org/doc/stable/user/quickstart.html)). Para hacer esto en google colab, ejecuta la siguiente linea de código:\n"
      ]
    },
    {
      "cell_type": "code",
      "execution_count": 1,
      "metadata": {
        "colab": {
          "base_uri": "https://localhost:8080/"
        },
        "id": "6rNKRMlSXTSm",
        "outputId": "b8ae730c-eccf-45e9-9f0f-449d3108fef0"
      },
      "outputs": [
        {
          "name": "stdout",
          "output_type": "stream",
          "text": [
            "Requirement already satisfied: numpy in c:\\users\\jessica\\.conda\\envs\\sistemas_inteligentes\\lib\\site-packages (1.24.0)\n",
            "Requirement already satisfied: matplotlib in c:\\users\\jessica\\.conda\\envs\\sistemas_inteligentes\\lib\\site-packages (3.6.2)\n",
            "Requirement already satisfied: kiwisolver>=1.0.1 in c:\\users\\jessica\\appdata\\roaming\\python\\python38\\site-packages\\kiwisolver-1.2.0-py3.8-win-amd64.egg (from matplotlib) (1.2.0)\n",
            "Requirement already satisfied: pillow>=6.2.0 in c:\\users\\jessica\\.conda\\envs\\sistemas_inteligentes\\lib\\site-packages (from matplotlib) (9.3.0)\n",
            "Requirement already satisfied: numpy>=1.19 in c:\\users\\jessica\\.conda\\envs\\sistemas_inteligentes\\lib\\site-packages (from matplotlib) (1.24.0)\n",
            "Requirement already satisfied: contourpy>=1.0.1 in c:\\users\\jessica\\.conda\\envs\\sistemas_inteligentes\\lib\\site-packages (from matplotlib) (1.0.6)\n",
            "Requirement already satisfied: pyparsing>=2.2.1 in c:\\users\\jessica\\appdata\\roaming\\python\\python38\\site-packages\\pyparsing-3.0.0a1-py3.8.egg (from matplotlib) (3.0.0a1)\n",
            "Requirement already satisfied: fonttools>=4.22.0 in c:\\users\\jessica\\.conda\\envs\\sistemas_inteligentes\\lib\\site-packages (from matplotlib) (4.38.0)\n",
            "Requirement already satisfied: python-dateutil>=2.7 in c:\\users\\jessica\\.conda\\envs\\sistemas_inteligentes\\lib\\site-packages (from matplotlib) (2.8.2)\n",
            "Requirement already satisfied: cycler>=0.10 in c:\\users\\jessica\\appdata\\roaming\\python\\python38\\site-packages\\cycler-0.10.0-py3.8.egg (from matplotlib) (0.10.0)\n",
            "Requirement already satisfied: packaging>=20.0 in c:\\users\\jessica\\.conda\\envs\\sistemas_inteligentes\\lib\\site-packages (from matplotlib) (22.0)\n",
            "Requirement already satisfied: six in c:\\users\\jessica\\.conda\\envs\\sistemas_inteligentes\\lib\\site-packages (from cycler>=0.10->matplotlib) (1.16.0)\n"
          ]
        }
      ],
      "source": [
        "!pip install numpy\n",
        "!pip install matplotlib"
      ]
    },
    {
      "cell_type": "markdown",
      "metadata": {
        "id": "0bD6LLA6XwaS"
      },
      "source": [
        "## Importar dependencias\n",
        "Mientras que lo anterior nos permite configurar nuestro ambiente de programación, ahora procederemos a crear nuestro código ejecutable. \n",
        "\n",
        "Como en todo lenguaje lo primero que hacemos es importar toda dependencia de la cual haremos uso. En este caso utilizaremos la librería de numpy para manejo de operaciones y matplotlib para visualización de datos."
      ]
    },
    {
      "cell_type": "code",
      "execution_count": 2,
      "metadata": {
        "id": "IO55YYe0XtWK"
      },
      "outputs": [],
      "source": [
        "import numpy as np"
      ]
    },
    {
      "attachments": {},
      "cell_type": "markdown",
      "metadata": {},
      "source": [
        "Algunas de las formas en las que podemos generar matrices en numpy son:\n",
        "1. Utilizando ceros en todos los elementos (np.zeros)\n",
        "2. Utilizando unos en todos los elementos (np.ones)\n",
        "3. Escribiendo los valores de manera explícita (np.array)\n",
        "\n",
        "En los primeros dos casos, se debe introducir las dimensiones de la matriz entre paréntesis. En el caso de 2 dimensiones, la primer dimensión hace alusión a la cantidad de renglones, y la segunda dimensión especifica la cantidad de columnas."
      ]
    },
    {
      "cell_type": "code",
      "execution_count": 3,
      "metadata": {},
      "outputs": [
        {
          "name": "stdout",
          "output_type": "stream",
          "text": [
            "Utilizando ceros\n",
            "[[0. 0.]\n",
            " [0. 0.]\n",
            " [0. 0.]]\n",
            "Utilizando unos\n",
            "[[1. 1. 1.]\n",
            " [1. 1. 1.]]\n",
            "Escribiendo valores explicitamente\n",
            "[[1 2]\n",
            " [3 4]]\n"
          ]
        }
      ],
      "source": [
        "print(\"Utilizando ceros\")\n",
        "print(np.zeros((3, 2)))\n",
        "print(\"Utilizando unos\")\n",
        "print(np.ones((2, 3)))\n",
        "print(\"Escribiendo valores explicitamente\")\n",
        "print(np.array([[1, 2], [3, 4]]))"
      ]
    },
    {
      "attachments": {},
      "cell_type": "markdown",
      "metadata": {},
      "source": [
        "Al momento de programar con numpy una de los aspectos más importantes al tratar con una matriz son sus dimensiones, para visualizar las dimensiones podemos usar el comando `shape`"
      ]
    },
    {
      "cell_type": "code",
      "execution_count": 4,
      "metadata": {},
      "outputs": [
        {
          "name": "stdout",
          "output_type": "stream",
          "text": [
            "[[1 2 3]\n",
            " [4 5 6]]\n",
            "La matriz tiene 2 renglones y 3 columnas\n",
            "(2, 3)\n"
          ]
        }
      ],
      "source": [
        "matriz = np.array([[1, 2, 3], [4, 5, 6]])\n",
        "print(matriz)\n",
        "print(f\"La matriz tiene {matriz.shape[0]} renglones y {matriz.shape[1]} columnas\")\n",
        "print(matriz.shape)\n"
      ]
    },
    {
      "attachments": {},
      "cell_type": "markdown",
      "metadata": {},
      "source": [
        "En python utilizamos Numpy porque esta librería permite realizar operaciones matemáticas entre matrices de manera sencilla y rápida"
      ]
    },
    {
      "cell_type": "code",
      "execution_count": 5,
      "metadata": {
        "colab": {
          "base_uri": "https://localhost:8080/"
        },
        "id": "51tifS94Xmqc",
        "outputId": "2d79ead3-e1c8-42a6-f0c8-76d0a987c65d"
      },
      "outputs": [
        {
          "name": "stdout",
          "output_type": "stream",
          "text": [
            "Inicial:\n",
            "[[0. 0.]\n",
            " [0. 0.]]\n",
            "Ciclo 0:\n",
            "[[1. 1.]\n",
            " [1. 1.]]\n",
            "Ciclo 1:\n",
            "[[2. 2.]\n",
            " [2. 2.]]\n",
            "Ciclo 2:\n",
            "[[3. 3.]\n",
            " [3. 3.]]\n"
          ]
        }
      ],
      "source": [
        "x = np.zeros((2, 2)) # instanciar una matriz de 2x2 inicializada en ceros\n",
        "print(\"Inicial:\")\n",
        "print(x)\n",
        "\n",
        "for i in range(3):\n",
        "  x += np.ones((2, 2))  # np.ones((2, 2)) crea una matriz de 2x2 inicializada en unos\n",
        "  print(f\"Ciclo {i}:\")\n",
        "  print(x)\n"
      ]
    },
    {
      "attachments": {},
      "cell_type": "markdown",
      "metadata": {
        "id": "ePRk7uQbU_9s"
      },
      "source": [
        "## Broadcasting\n",
        "En el código anterior sumamos una matriz de 2x2 a otra matriz con las mismas dimensiones (2x2). Matemáticamente la suma se realiza de manera directa, es decir, el elemento de la posición [0, 0] de la primer matriz se suma al elemento de la posición [0, 0] de la segunda matriz.\n",
        "\n",
        "En numpy, también podriamos sumar una matriz de 2x2 a una de 1x2. Matemáticamente *esto es imposible* sin embargo numpy utiliza el concepto de [`broadcasting`](https://numpy.org/doc/stable/user/basics.broadcasting.html) para realizar este tipo de operaciones."
      ]
    },
    {
      "cell_type": "code",
      "execution_count": 6,
      "metadata": {},
      "outputs": [
        {
          "name": "stdout",
          "output_type": "stream",
          "text": [
            "Inicial:\n",
            "[[0. 0.]\n",
            " [0. 0.]]\n",
            "Ciclo 0:\n",
            "[[1. 1.]\n",
            " [1. 1.]]\n",
            "Ciclo 1:\n",
            "[[2. 2.]\n",
            " [2. 2.]]\n",
            "Ciclo 2:\n",
            "[[3. 3.]\n",
            " [3. 3.]]\n"
          ]
        }
      ],
      "source": [
        "x = np.zeros((2, 2)) # instanciar una matriz de 2x2 inicializada en ceros\n",
        "print(\"Inicial:\")\n",
        "print(x)\n",
        "\n",
        "for i in range(3):\n",
        "  x += np.ones((1, 2))  # np.ones((1, 2)) crea una matriz de 1x2 inicializada en unos\n",
        "  print(f\"Ciclo {i}:\")\n",
        "  print(x)"
      ]
    },
    {
      "attachments": {},
      "cell_type": "markdown",
      "metadata": {},
      "source": [
        "\n",
        "Cuando numpy hace operaciones en dos matrices, compara sus dimensiones uno a uno. Comienza con las de la derecha y evalua hacia las de la izquierda. Dos dimensiones son compatibles si:\n",
        "1.   Son iguales\n",
        "2.   Una dimensión es 1\n",
        "\n",
        "En esencia, cuando la dimensión es 1 se \"repite\" o se \"estira\" para igualar con la cual se quiere realizar la operación."
      ]
    },
    {
      "cell_type": "code",
      "execution_count": 7,
      "metadata": {},
      "outputs": [
        {
          "name": "stdout",
          "output_type": "stream",
          "text": [
            "La primer matriz es:\n",
            "[[1 2]\n",
            " [3 4]\n",
            " [5 6]]\n",
            "La segunda matriz es:\n",
            "[2 0]\n",
            "Al realizar la suma de a con b, b se convierte en:\n",
            "[[2 0]\n",
            " [2 0]\n",
            " [2 0]]\n",
            "El resultado de sumar ambas matrices es:\n",
            "[[3 2]\n",
            " [5 4]\n",
            " [7 6]]\n"
          ]
        }
      ],
      "source": [
        "a = np.array([[1, 2], [3, 4], [5, 6]])\n",
        "b = np.array([2, 0])\n",
        "\n",
        "print(\"La primer matriz es:\")\n",
        "print(a)\n",
        "\n",
        "print(\"La segunda matriz es:\")\n",
        "print(b)\n",
        "\n",
        "print(\"Al realizar la suma de a con b, b se convierte en:\")\n",
        "b_alterna = np.array([[2, 0], [2, 0], [2, 0]])\n",
        "print(b_alterna)\n",
        "\n",
        "print(\"El resultado de sumar ambas matrices es:\")\n",
        "c = a + b\n",
        "print(c)"
      ]
    },
    {
      "attachments": {},
      "cell_type": "markdown",
      "metadata": {},
      "source": [
        " Podemos hacer lo mismo para matrices con más dimensiones. En el siguiente ejemplo, queremos sumar la matriz A a la matriz B. Estas tienen distintas dimensiones(8x1x6x1 y 7x1x5), numpy entonces iguala las dimensiones de 1 a las que no lo son y el resultado es de dimensionalidad (8x7x6x5)\n",
        "\n",
        "```\n",
        "A      (4d array):  8 x 1 x 6 x 1\n",
        "B      (3d array):      7 x 1 x 5\n",
        "Result (4d array):  8 x 7 x 6 x 5\n",
        "```"
      ]
    },
    {
      "cell_type": "markdown",
      "metadata": {
        "id": "jSksV8uwJ3sd"
      },
      "source": [
        "Considera el siguiente codigo: Puedes predecir la dimensionalidad de la matriz C antes de correr la celda?"
      ]
    },
    {
      "cell_type": "code",
      "execution_count": 8,
      "metadata": {
        "colab": {
          "base_uri": "https://localhost:8080/"
        },
        "id": "Reh5-8GoWpio",
        "outputId": "d6821027-c5f7-455a-d7c9-00392146c5e0"
      },
      "outputs": [
        {
          "name": "stdout",
          "output_type": "stream",
          "text": [
            "(8, 5, 6, 5)\n"
          ]
        }
      ],
      "source": [
        "A = np.ones((8,1,6,1))\n",
        "B = np.ones((5,1,5)) * 2 # Inicializada en 2\n",
        "\n",
        "C = A + B\n",
        "print(C.shape)"
      ]
    },
    {
      "attachments": {},
      "cell_type": "markdown",
      "metadata": {
        "id": "fpnEP_vPJ1ZF"
      },
      "source": [
        "# 2. Operaciones matemáticas con numpy"
      ]
    },
    {
      "attachments": {},
      "cell_type": "markdown",
      "metadata": {
        "id": "-2dytl2MJ-Qd"
      },
      "source": [
        "Vamos a realizar diferentes operaciones comunes de algebra lineal en numpy. Considera las siguientes operaciones:\n",
        "\n",
        "\n",
        "\n",
        "\\begin{equation}\n",
        "  A=Wx\\\\\n",
        "\\end{equation}\n",
        "\n",
        "\\begin{equation}\n",
        "  W=\n",
        "  \\begin{bmatrix}\n",
        "  2 & 3\\\\\n",
        "  4 & 5 \n",
        "  \\end{bmatrix}\\\\\n",
        "  x = \n",
        "  \\begin{bmatrix}\n",
        "  5\\\\\n",
        "  6 \n",
        "  \\end{bmatrix}\n",
        "\\end{equation}\n",
        "\n",
        "Calcula analiticamente el resultado de la operación $A$:\n",
        "\\begin{equation}\n",
        "  A=  \n",
        "  \\begin{bmatrix}\n",
        "  ?? \\\\\n",
        "  ??\n",
        "  \\end{bmatrix}\n",
        "\\end{equation}\n",
        "\n",
        "Realicemos ahora la misma operación en numpy:\n",
        "Puedes usar diferentes operadores para realizar operaciones con matrices\n",
        "* `np.dot(a,b)` [docs](https://numpy.org/doc/stable/reference/generated/numpy.dot.html): Se utiliza para obtener el producto punto de dos vectores. Sin embargo cuando a o b son matrices, realiza una multiplicacion de matrices.\n",
        "* `A @ B` [docs](https://numpy.org/doc/stable/reference/generated/numpy.dot.html): Si `A` y `B` son arreglos de numpy (`np.Array([algo])`), realiza una operacion de matrices regular. Recuerda que deben tener la dimensionalidad correcta para la operación.\n",
        "* `np.multiply(a,b)`: Resulta en el producto hadamart.\n",
        "* `A * B`: También corresponde a un producto hadamart, es decir una multiplicacion punto a punto. Lo mismo ocurre con los operadores `+`, `-`, y `/`. \n",
        "\n",
        "Recuerda que numpy permite realizar operaciones aun cuando las dimensiones no son identicas debido a que realiza un \"broadcasting\".\n",
        "\n",
        "### Instrucciones:\n",
        "Completa el siguiente codigo y compara el resultado de numpy con el analítico."
      ]
    },
    {
      "cell_type": "code",
      "execution_count": 9,
      "metadata": {
        "colab": {
          "base_uri": "https://localhost:8080/",
          "height": 130
        },
        "id": "EbkI4pW0J1Em",
        "outputId": "7c1afab6-a394-4aea-f5db-42697ffcd110"
      },
      "outputs": [
        {
          "name": "stdout",
          "output_type": "stream",
          "text": [
            "(2, 2)\n",
            "(2,)\n",
            "Resultado:\n",
            "A [28 50] (2,)\n",
            "[[10 18]\n",
            " [20 30]]\n"
          ]
        }
      ],
      "source": [
        "W = np.array([[2,3],\n",
        "              [4,5]])\n",
        "print(W.shape)\n",
        "# TODO: inicializa x\n",
        "x = np.array([5, 6])\n",
        "print(x.shape)\n",
        "# TODO: Realiza la multiplicación de Wx\n",
        "A = W @ x\n",
        "# print(A.shape)\n",
        "print(\"Resultado:\")\n",
        "print(\"A\", A, A.shape)\n",
        "print(np.multiply(W, x))"
      ]
    },
    {
      "cell_type": "markdown",
      "metadata": {
        "id": "ZF5EDrxGNZHi"
      },
      "source": [
        "Numpy puede hacer muchas cosas interesantes. Por ejemplo podemos calcular los valores y vectores propios de una matriz. Tambien podemos encontrar informacion importante como la magnitud de un vector y determinar si una matriz es positiva definitiva o no. Esto se accede a través de la utilidad de `linalg`. \n",
        "\n",
        "Intenta determinar los valores que imprimirá el siguiente código antes de correr la celda."
      ]
    },
    {
      "cell_type": "code",
      "execution_count": 10,
      "metadata": {
        "colab": {
          "base_uri": "https://localhost:8080/"
        },
        "id": "F-QtLUhvNp3D",
        "outputId": "444f462f-0c69-467b-8409-939fde096822"
      },
      "outputs": [
        {
          "name": "stdout",
          "output_type": "stream",
          "text": [
            "M transpuesta:\n",
            " [[3 0]\n",
            " [1 2]]\n",
            "M eig_val: [3. 2.]\n",
            "M eig_vec:\n",
            " [[ 1.         -0.70710678]\n",
            " [ 0.          0.70710678]]\n",
            "Magnitud del primer vector columna de M:\n",
            " 3.0\n",
            "Positiva definitiva? True\n",
            "Inversa de M [[ 0.33333333 -0.16666667]\n",
            " [ 0.          0.5       ]]\n",
            "Determinante de M: 6.0\n"
          ]
        }
      ],
      "source": [
        "M = np.array([[3,1],\n",
        "               [0,2]])\n",
        "\n",
        "# Calcular la transpuesta\n",
        "M_transpose = M.T\n",
        "print(\"M transpuesta:\\n\", M_transpose)\n",
        "\n",
        "# Calcular valores y vectores propios\n",
        "eig_val, eig_vec = np.linalg.eig(M)\n",
        "print(\"M eig_val:\", eig_val)\n",
        "print(\"M eig_vec:\\n\", eig_vec) # eig_vec es el vector proio unitario. Cada columna representa un eigenvector\n",
        "\n",
        "\n",
        "# Calcular la magnitud de el primer vector columna:\n",
        "norm = np.linalg.norm(M[:,0])\n",
        "print(\"Magnitud del primer vector columna de M:\\n\", norm)\n",
        "\n",
        "# Determinar si la matriz es positiva definitiva\n",
        "is_pos_def = np.all(np.linalg.eigvals(M) > 0)\n",
        "print(\"Positiva definitiva?\", is_pos_def)\n",
        "\n",
        "# Determinar la inversa\n",
        "M_inv = np.linalg.inv(M)\n",
        "print(\"Inversa de M\", M_inv)\n",
        "\n",
        "# Calcular el determinante\n",
        "M_det = np.linalg.det(M)\n",
        "print(\"Determinante de M:\", M_det)"
      ]
    },
    {
      "cell_type": "markdown",
      "metadata": {
        "id": "zEkhN0WU64l-"
      },
      "source": [
        "Ahora estas listo para realizar diferentes ejercicios de algebra lineal!"
      ]
    },
    {
      "attachments": {},
      "cell_type": "markdown",
      "metadata": {
        "id": "FKH1uVka68O9"
      },
      "source": [
        "# 3. Ejercicios de álgebra lineal\n",
        "\n",
        "Resuelve los siguientes ejercicios usando **las funciones de numpy y python adecuadas** e imprime los resultados. Compara la respuesta con el resultado manual calculado en clase.\n",
        "\n",
        "\n",
        "\n"
      ]
    },
    {
      "attachments": {},
      "cell_type": "markdown",
      "metadata": {
        "id": "931q7SsMS0Gm"
      },
      "source": [
        "1. Dada una matriz $X$ imprime los siguientes valores:\n",
        "\\begin{equation}\n",
        "  X=\n",
        "  \\begin{bmatrix}\n",
        "  5 & 3 & 5 \\\\\n",
        "  8 & 6 & 7 \\\\\n",
        "  4 & 2 & 1\n",
        "  \\end{bmatrix}\\\\\n",
        "\\end{equation}\n",
        "\n",
        "*   $X_{0,0}$\n",
        "*   $X_{1,2}$\n",
        "*   $X_{2,:}$\n",
        "*   $X_{:,1}$"
      ]
    },
    {
      "cell_type": "code",
      "execution_count": 11,
      "metadata": {
        "id": "gCrqPbgXTPd9"
      },
      "outputs": [
        {
          "name": "stdout",
          "output_type": "stream",
          "text": [
            "5\n",
            "7\n",
            "[4 2 1]\n",
            "[3 5 2]\n"
          ]
        }
      ],
      "source": [
        "X = np.array([[5,3,5],\n",
        "              [8,5,7],\n",
        "              [4,2,1]])\n",
        "\n",
        "print(X[0,0])\n",
        "# TODO, indexa e imprime los valores restantes\n",
        "print(X[1,2])\n",
        "print(X[2,:])\n",
        "print(X[:,1])"
      ]
    },
    {
      "cell_type": "markdown",
      "metadata": {
        "id": "CG-43HVASlfN"
      },
      "source": [
        "2. Calcula $Z = G \\circ H$\n",
        "\n",
        "\\begin{equation}\n",
        "  G=\n",
        "  \\begin{bmatrix}\n",
        "  3 & 5 & 7 \\\\\n",
        "  4 & 9 & 8 \n",
        "  \\end{bmatrix}\\\\\n",
        "  H = \n",
        "  \\begin{bmatrix}\n",
        "  1 & 6 & 3 \\\\\n",
        "  0 & 2 & 9 \n",
        "  \\end{bmatrix}\\\\\n",
        "\\end{equation}"
      ]
    },
    {
      "cell_type": "code",
      "execution_count": 12,
      "metadata": {
        "id": "BL9KH1FmSvSe"
      },
      "outputs": [
        {
          "name": "stdout",
          "output_type": "stream",
          "text": [
            "[[ True  True  True]\n",
            " [ True  True  True]]\n"
          ]
        }
      ],
      "source": [
        "G = np.array([[3,5,7],\n",
        "              [4,9,8]])\n",
        "H = np.array([[1,6,3],\n",
        "              [0,2,9]])\n",
        "\n",
        "# TODO: Imprime el producto hadamard\n",
        "Z = G * H\n",
        "Z1 = np.multiply(G, H)\n",
        "print( Z == Z1)"
      ]
    },
    {
      "cell_type": "markdown",
      "metadata": {
        "id": "R29_Xcx0Thg1"
      },
      "source": [
        "3. Calcula $u \\cdot v$ para:\n",
        "\\begin{equation}\n",
        "  u=\n",
        "  \\begin{bmatrix}\n",
        "  3 \\\\\n",
        "  1 \n",
        "  \\end{bmatrix}\\\\\n",
        "  v = \n",
        "  \\begin{bmatrix}\n",
        "  2 \\\\\n",
        "  4\n",
        "  \\end{bmatrix}\\\\\n",
        "\\end{equation}"
      ]
    },
    {
      "cell_type": "code",
      "execution_count": 13,
      "metadata": {
        "id": "S1TNiwRbT9yd"
      },
      "outputs": [
        {
          "name": "stdout",
          "output_type": "stream",
          "text": [
            "SHAPES U(2,) V(2,)\n",
            "10\n",
            "SHAPES U(1, 2) V(2, 1)\n",
            "[[10]] (1, 1)\n"
          ]
        }
      ],
      "source": [
        "# TODO: define los vectores u,v y calcula el producto punto\n",
        "u = np.array([3,1])\n",
        "v = np.array([2,4])\n",
        "\n",
        "z = np.dot(u,v)\n",
        "print(f\"SHAPES U{u.shape} V{v.shape}\")\n",
        "print(z)\n",
        "\n",
        "u = np.array([[3],[1]])\n",
        "v = np.array([[2],[4]])\n",
        "print(f\"SHAPES U{u.T.shape} V{v.shape}\")\n",
        "z = np.dot(u.T,v)\n",
        "print(z, z.shape)\n"
      ]
    },
    {
      "attachments": {},
      "cell_type": "markdown",
      "metadata": {
        "id": "eOzoSui9UDx9"
      },
      "source": [
        "4. Dadas las matrices $G, H$ realiza la multiplicación de matrices  $Z=GH$ e imprime la matriz resultante\n",
        "\n",
        "\\begin{equation}\n",
        "  G=\n",
        "  \\begin{bmatrix}\n",
        "  1 & 2 \\\\ \n",
        "  3 & 4 \\\\\n",
        "  5 & 6 \\\\ \n",
        "  \\end{bmatrix}\\\\\n",
        "  H = \n",
        "  \\begin{bmatrix}\n",
        "  7 & 8 \\\\\n",
        "  9 & 10\n",
        "  \\end{bmatrix}\n",
        "\\end{equation}"
      ]
    },
    {
      "cell_type": "code",
      "execution_count": 14,
      "metadata": {
        "id": "iHztYj5dT9Rk"
      },
      "outputs": [
        {
          "name": "stdout",
          "output_type": "stream",
          "text": [
            "[[ 25  28]\n",
            " [ 57  64]\n",
            " [ 89 100]] (3, 2)\n"
          ]
        }
      ],
      "source": [
        "# TODO: Define las matrices X, Y e imprime el resultado de su multiplicación\n",
        "G = np.array([[1,2],\n",
        "              [3,4],\n",
        "              [5,6]])\n",
        "H = np.array([[7,8],\n",
        "              [9,10]])\n",
        "\n",
        "Z = G @ H\n",
        "print(Z, Z.shape)"
      ]
    },
    {
      "cell_type": "markdown",
      "metadata": {
        "id": "NBGZq480VLhL"
      },
      "source": [
        "5. Imprime la transpuesta de $X$\n",
        "\\begin{equation}\n",
        "  G=\n",
        "  \\begin{bmatrix}\n",
        "  1 & 2 & 3\\\\ \n",
        "  4 & 5 & 6 \\\\\n",
        "  7 & 8 & 9\\\\ \n",
        "  \\end{bmatrix}\n",
        "\\end{equation}"
      ]
    },
    {
      "cell_type": "code",
      "execution_count": 15,
      "metadata": {
        "colab": {
          "base_uri": "https://localhost:8080/"
        },
        "id": "Aps76KlBVI_W",
        "outputId": "da8cf0b6-0bb1-4cf9-9aed-8a69fd592d70"
      },
      "outputs": [
        {
          "name": "stdout",
          "output_type": "stream",
          "text": [
            "[[1 2 3]\n",
            " [4 5 6]\n",
            " [7 8 9]]\n",
            "[[1 4 7]\n",
            " [2 5 8]\n",
            " [3 6 9]]\n"
          ]
        }
      ],
      "source": [
        "import numpy as np\n",
        "X = np.arange(1,10)\n",
        "X = X.reshape((3,3))\n",
        "print(X)\n",
        "# TODO: imprime la transpuesta de X\n",
        "print(X.T)"
      ]
    },
    {
      "cell_type": "markdown",
      "metadata": {
        "id": "T3zaz1cTXTSA"
      },
      "source": [
        "6. Imprime $Z=X^TX$ dada una matriz no simétrica $X$\n",
        "\\begin{equation}\n",
        "  X=\n",
        "  \\begin{bmatrix}\n",
        "  1 & 2 & 3\\\\ \n",
        "  4 & 5 & 6 \\\\\n",
        "  7 & 8 & 9\\\\ \n",
        "  \\end{bmatrix}\n",
        "\\end{equation}\n",
        "\n",
        "**TODO: Responde las preguntas**\n",
        "* ¿Que pasa con la matriz Z? ¿es simétrica?\n",
        "* ¿De las propiedades vistas en clase, cual se cumple en este caso?\n",
        "\n"
      ]
    },
    {
      "cell_type": "code",
      "execution_count": 16,
      "metadata": {
        "id": "ak0Tb8pEXrhR"
      },
      "outputs": [
        {
          "name": "stdout",
          "output_type": "stream",
          "text": [
            "[[1 2 3]\n",
            " [4 5 6]\n",
            " [7 8 9]]\n",
            "[[ 66  78  90]\n",
            " [ 78  93 108]\n",
            " [ 90 108 126]]\n",
            "[[ 1  8 21]\n",
            " [ 8 25 48]\n",
            " [21 48 81]]\n"
          ]
        }
      ],
      "source": [
        "X = np.arange(1,10)\n",
        "X = X.reshape((3,3))\n",
        "print(X)\n",
        "# TODO calcula e imprime Z\n",
        "Z = X.T@X\n",
        "print(Z)\n",
        "print(X.T*X)\n"
      ]
    },
    {
      "attachments": {},
      "cell_type": "markdown",
      "metadata": {
        "id": "ea9c6ni2Xxk6"
      },
      "source": [
        "7. Una vez calculada $Z=X^TX$ imprime su transpuesta $Z^T$\n",
        "\n",
        "**TODO: Responde las preguntas**\n",
        "* Compara $Z$ y $Z^T$¿Como es la transpuesta de Z? son iguales\n",
        "* ¿En base a las propiedades vistas en clase, a cual se debe esto? a que Z es simétrica"
      ]
    },
    {
      "cell_type": "code",
      "execution_count": 17,
      "metadata": {
        "id": "7dGGi5HBZC6B"
      },
      "outputs": [
        {
          "name": "stdout",
          "output_type": "stream",
          "text": [
            "[[ 66  78  90]\n",
            " [ 78  93 108]\n",
            " [ 90 108 126]]\n"
          ]
        }
      ],
      "source": [
        "# TODO imprime la transpuesta de Z\n",
        "print(Z.T)\n"
      ]
    },
    {
      "attachments": {},
      "cell_type": "markdown",
      "metadata": {},
      "source": [
        "8. Calcula e imprime los valores y vectores propios de las siguientes matrices\n",
        "\\begin{equation}\n",
        "  x_1 = \n",
        "  \\begin{bmatrix}\n",
        "  1 & 1 \\\\\n",
        "  4 & 1\n",
        "  \\end{bmatrix}\n",
        "  x_2 = \n",
        "  \\begin{bmatrix}\n",
        "  2 & 0 \\\\\n",
        "  0 & 3\n",
        "  \\end{bmatrix}\n",
        "\\end{equation}"
      ]
    },
    {
      "cell_type": "code",
      "execution_count": 18,
      "metadata": {},
      "outputs": [
        {
          "name": "stdout",
          "output_type": "stream",
          "text": [
            "[ 3. -1.]\n",
            "[[ 0.4472136  -0.4472136 ]\n",
            " [ 0.89442719  0.89442719]] (2, 2)\n",
            "primero [0.4472136  0.89442719] (2,)\n",
            "[2. 3.]\n",
            "[[1. 0.]\n",
            " [0. 1.]]\n"
          ]
        }
      ],
      "source": [
        "import numpy as np\n",
        "x_1 = np.array([[1,1],\n",
        "                [4,1]])\n",
        "# TODO: imprime los valores y vectores propios de x_1\n",
        "eigval, eigvec = np.linalg.eig(x_1)\n",
        "print(eigval)\n",
        "print(eigvec, eigvec.shape)  # Eigenvectors en columnas\n",
        "print(\"primero\", eigvec[:,0], eigvec[:,0].shape)\n",
        "x_2 = np.array([[2,0],\n",
        "                [0,3]])\n",
        "\n",
        "# TODO: imprime los valores y vectores propios de x_2\n",
        "eigval, eigvec = np.linalg.eig(x_2)\n",
        "print(eigval)\n",
        "print(eigvec)\n"
      ]
    }
  ],
  "metadata": {
    "colab": {
      "provenance": []
    },
    "kernelspec": {
      "display_name": "sistemas_inteligentes",
      "language": "python",
      "name": "python3"
    },
    "language_info": {
      "codemirror_mode": {
        "name": "ipython",
        "version": 3
      },
      "file_extension": ".py",
      "mimetype": "text/x-python",
      "name": "python",
      "nbconvert_exporter": "python",
      "pygments_lexer": "ipython3",
      "version": "3.8.15"
    },
    "vscode": {
      "interpreter": {
        "hash": "90e4140b2e60f217aa413489f79b8cb2d030a4bc742884db65b9d8c2b5235a03"
      }
    }
  },
  "nbformat": 4,
  "nbformat_minor": 0
}
