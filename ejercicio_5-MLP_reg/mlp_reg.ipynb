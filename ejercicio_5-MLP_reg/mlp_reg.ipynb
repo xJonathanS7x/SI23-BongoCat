{
 "cells": [
  {
   "attachments": {},
   "cell_type": "markdown",
   "metadata": {},
   "source": [
    "# Introduccion a pytorch\n",
    "En este ejercicio haremos uso de la librería de pytorch para aprendizaje profundo. Para iniciar, ve a la [página de Pytorch](https://pytorch.org/get-started/locally/) e instala la versión que corresponda a tu sistema operativo. Recuerda activar tu ambiente antes de instarlo. La instalación tomará unos minutos.\n",
    "\n",
    "```\n",
    "conda activate sistemas_inteligentes\n",
    "pip3 install torch torchvision torchaudio\n",
    "```"
   ]
  },
  {
   "cell_type": "code",
<<<<<<< HEAD
   "execution_count": 251,
=======
   "execution_count": 18,
>>>>>>> 4eeaac7f73140c1aa51579aa31312355179abd25
   "metadata": {},
   "outputs": [],
   "source": [
    "import numpy as np\n",
    "import matplotlib.pyplot as plt\n",
    "import pandas as pd\n",
    "import torch\n",
    "import torch.nn  as nn\n",
    "import torch.nn.functional as F\n",
    "from torch.utils.data import Dataset\n",
    "from torch.utils.data import DataLoader\n",
    "from torchvision import datasets\n",
    "from torchvision.transforms import ToTensor\n",
    "import os\n",
    "import json"
   ]
  },
  {
   "attachments": {},
   "cell_type": "markdown",
   "metadata": {},
   "source": [
    "## Datos originales\n",
    "Aquí cargamos los datos originales y observamos los valores de las primeras 3 columnas. En este ejercio utilizaremos el conjunto de datos del problema de las casas que utilizamos para entrenar regresión lineal."
   ]
  },
  {
   "cell_type": "code",
<<<<<<< HEAD
   "execution_count": 252,
=======
   "execution_count": 19,
>>>>>>> 4eeaac7f73140c1aa51579aa31312355179abd25
   "metadata": {},
   "outputs": [
    {
     "name": "stdout",
     "output_type": "stream",
     "text": [
      "   Id  MSSubClass MSZoning  LotFrontage  LotArea Street Alley LotShape  \\\n",
      "0   1          60       RL         65.0     8450   Pave   NaN      Reg   \n",
      "1   2          20       RL         80.0     9600   Pave   NaN      Reg   \n",
      "2   3          60       RL         68.0    11250   Pave   NaN      IR1   \n",
      "\n",
      "  LandContour Utilities  ... ScreenPorch PoolArea PoolQC Fence MiscFeature  \\\n",
      "0         Lvl    AllPub  ...           0        0    NaN   NaN         NaN   \n",
      "1         Lvl    AllPub  ...           0        0    NaN   NaN         NaN   \n",
      "2         Lvl    AllPub  ...           0        0    NaN   NaN         NaN   \n",
      "\n",
      "  MiscVal MoSold  YrSold  SaleType  SaleCondition  \n",
      "0       0      2    2008        WD         Normal  \n",
      "1       0      5    2007        WD         Normal  \n",
      "2       0      9    2008        WD         Normal  \n",
      "\n",
      "[3 rows x 80 columns]\n",
      "Conjunto de datos de dimensinalidad:(1460, 80), etiquetas (1460,)\n"
     ]
    }
   ],
   "source": [
    "def read_data(data_dir, file):\n",
    "    path = os.path.join(data_dir, file)\n",
    "    df = pd.read_csv(path)\n",
    "    return df\n",
    "\n",
    "# Leer los datasets\n",
    "data_dir = \"./data\"\n",
    "data = read_data(data_dir, \"train.csv\")\n",
    "full_dataset, labels = data.iloc[:, :-1], data.iloc[:, -1]\n",
    "print(full_dataset.head(3))\n",
    "print(f\"Conjunto de datos de dimensinalidad:{full_dataset.shape}, etiquetas {labels.shape}\")"
   ]
  },
  {
   "attachments": {},
   "cell_type": "markdown",
   "metadata": {},
   "source": [
    "## Data split\n",
    "Para poder simular un conjunto de prueba y evaluar nuestro modelo, separamos los datos en entrenamiento y validación."
   ]
  },
  {
   "cell_type": "code",
<<<<<<< HEAD
   "execution_count": 253,
=======
   "execution_count": 20,
>>>>>>> 4eeaac7f73140c1aa51579aa31312355179abd25
   "metadata": {},
   "outputs": [
    {
     "name": "stdout",
     "output_type": "stream",
     "text": [
      "Entrenamiento de dimensinalidad:(1168, 80), etiquetas (1168,)\n",
      "Validación de dimensinalidad:(292, 80), etiquetas (292,)\n"
     ]
    }
   ],
   "source": [
    "from sklearn.model_selection import train_test_split\n",
    "train_data, val_data, train_labels, val_labels = train_test_split(full_dataset,\n",
    "                                                                  labels,\n",
    "                                                                  test_size = 0.2,\n",
    "                                                                  random_state = 0)\n",
    "print(f\"Entrenamiento de dimensinalidad:{train_data.shape}, etiquetas {train_labels.shape}\")\n",
    "print(f\"Validación de dimensinalidad:{val_data.shape}, etiquetas {val_labels.shape}\")"
   ]
  },
  {
   "attachments": {},
   "cell_type": "markdown",
   "metadata": {},
   "source": [
    "## Preprocesamiento de datos\n",
    "\n",
    "Abre el archivo .csv dentro de la carpeta de data y observa como están dados los datos. Notarás que algunas columnas tienen valores string en lugar de números, algunas filas tienen valores NaN, algunos valores están vacios y demás.\n",
    "\n",
    "La mayoría de los datasets reales son como el que usamos en este ejercicio, sin embargo para poder aprender de ellos necesitamos deshacernos de las tres condiciones anterirmente mencionadas. Por lo tanto, antes de poder aplicar cualquier método de aprendizaje primero deberémos:\n",
    "1. Eliminar cualquier celda con valores NaN\n",
    "2. Remplazar las entradas categóricas (string) por numéricas\n",
    "\n",
    "Para tratar con los NaN, vamos a asignarle un número distintivo. En este caso hemos elegido el número \"-1\". Entonces, para toda celda cuyo valor sea desconocido, simplemente le asignaremos el valor de \"-1\".\n",
    "\n",
    "Para tratar con el segundo caso, crearemos un \"mapa\" de strings a enteros. Por ejemplo si para cada casa se indica el material de construcción como \"block\" y \"ladrillo\" crearemos un mapa que nos de un número entero para cada tipo de material. Por ejemplo considera el mapeo:\n",
    "```\n",
    "material = {\"block\": 1,\n",
    "            \"ladrillo\": 2}\n",
    "```\n",
    "En este caso si en alguna fila la columna de \"material\" originalmente fuera \"block\" entonces en los datos después del pre procesamiento, ahora diría \"1\". Para ello utilizaremos la utilería de sklearn [`OrdinalEncoder`](https://scikit-learn.org/stable/modules/generated/sklearn.preprocessing.OrdinalEncoder.html). Recuerda que es importante aplicar el mismo preprocesamiento a TODOS los datos (incluyendo los de prueba), y que los datos que utilizamos para afinar este preprocesamiento son los de entrenamiento."
   ]
  },
  {
   "cell_type": "code",
<<<<<<< HEAD
   "execution_count": 254,
=======
   "execution_count": 21,
>>>>>>> 4eeaac7f73140c1aa51579aa31312355179abd25
   "metadata": {},
   "outputs": [],
   "source": [
    "def apply_preprocessing(dataset, feat_encoder, columns):\n",
    "    '''\n",
    "        args:\n",
    "        - dataset (pd.DataFrame): Conjunto de datos\n",
    "        - feat_encoder (OrdinalEncoder): instancia de codificador para las variables de entrada ajustado con datos de entrenamiento\n",
    "        returns:\n",
    "        - transformed_dataset (np.array): dataset transformado\n",
    "    '''\n",
    "    # Reemplazar valores categóricos por numéricos\n",
    "    transformed_dataset = dataset.copy()\n",
    "    transformed_dataset[columns] = feat_encoder.transform(dataset[columns])\n",
    "    # Reemplazar NaN con -1\n",
    "    transformed_dataset[np.isnan(transformed_dataset)] = -1\n",
    "    return transformed_dataset.to_numpy()"
   ]
  },
  {
   "cell_type": "code",
<<<<<<< HEAD
   "execution_count": 255,
=======
   "execution_count": 22,
>>>>>>> 4eeaac7f73140c1aa51579aa31312355179abd25
   "metadata": {},
   "outputs": [
    {
     "name": "stdout",
     "output_type": "stream",
     "text": [
      "Entrenamiento shapes (1168, 80) (1168,) <class 'numpy.ndarray'>\n",
      "Validacion shapes (292, 80) (292,)\n"
     ]
    }
   ],
   "source": [
    "from sklearn.preprocessing import OrdinalEncoder\n",
    "\n",
    "# Definimos un codificador para los atributos de entrada\n",
    "# Especificamos que para valores desconocidos tome -1\n",
    "# solo usamos entrenamiento apra definir el codificador\n",
    "obj_cols = (train_data.dtypes == 'object')\n",
    "obj_cols = list(obj_cols[obj_cols].index)\n",
    "feat_encoder= OrdinalEncoder(handle_unknown='use_encoded_value',\n",
    "                             unknown_value=-1)\n",
    "feat_encoder.fit(train_data[obj_cols])\n",
    "\n",
    "# Aplicamos el mismo preprocesamiento a todos los datasets\n",
    "train_data = apply_preprocessing(train_data, feat_encoder, obj_cols)\n",
    "val_data = apply_preprocessing(val_data, feat_encoder, obj_cols)\n",
    "\n",
    "# Transformar las etiquetas a arreglos de numpy\n",
    "if not isinstance(train_labels, np.ndarray):\n",
    "    train_labels = train_labels.to_numpy()\n",
    "    val_labels = val_labels.to_numpy()\n",
    "print(\"Entrenamiento shapes\", train_data.shape, train_labels.shape, type(train_data))\n",
    "print(\"Validacion shapes\", val_data.shape, val_labels.shape)"
   ]
  },
  {
   "attachments": {},
   "cell_type": "markdown",
   "metadata": {},
   "source": [
    "Y aplicamos el mismo pre procesamiento a los datos de prueba"
   ]
  },
  {
   "cell_type": "code",
<<<<<<< HEAD
   "execution_count": 256,
=======
   "execution_count": 23,
>>>>>>> 4eeaac7f73140c1aa51579aa31312355179abd25
   "metadata": {},
   "outputs": [
    {
     "name": "stdout",
     "output_type": "stream",
     "text": [
      "Prueba shapes (1459, 80)\n"
     ]
    }
   ],
   "source": [
    "# Cargamos los datos de prueba y aplicamos el mismo proceso\n",
    "# Solo que en este caso no hay etiquetas\n",
    "test_data = read_data(data_dir, \"test.csv\")\n",
    "# TODO: aplica el preprocesamiento de datos al conjunto de prueba\n",
    "test_data = apply_preprocessing(test_data, feat_encoder, obj_cols)\n",
    "print(\"Prueba shapes\", test_data.shape)"
   ]
  },
  {
   "attachments": {},
   "cell_type": "markdown",
   "metadata": {},
   "source": [
    "# Datos preprocesados\n",
    "¿Recuerdas los datos originales? Después del pre procesamiento, esta es la información que recibiría el modelo durante entrenamiento"
   ]
  },
  {
   "cell_type": "code",
<<<<<<< HEAD
   "execution_count": 257,
=======
   "execution_count": 24,
>>>>>>> 4eeaac7f73140c1aa51579aa31312355179abd25
   "metadata": {},
   "outputs": [
    {
     "name": "stdout",
     "output_type": "stream",
     "text": [
      "Datos después de limpiarlos\n",
      "[[ 6.1900e+02  2.0000e+01  3.0000e+00  9.0000e+01  1.1694e+04  1.0000e+00\n",
      "  -1.0000e+00  3.0000e+00  3.0000e+00  0.0000e+00  4.0000e+00  0.0000e+00\n",
      "   1.6000e+01  2.0000e+00  2.0000e+00  0.0000e+00  2.0000e+00  9.0000e+00\n",
      "   5.0000e+00  2.0070e+03  2.0070e+03  3.0000e+00  0.0000e+00  5.0000e+00\n",
      "   5.0000e+00  1.0000e+00  4.5200e+02  0.0000e+00  4.0000e+00  2.0000e+00\n",
      "   0.0000e+00  3.0000e+00  0.0000e+00  2.0000e+00  4.8000e+01  5.0000e+00\n",
      "   0.0000e+00  1.7740e+03  1.8220e+03  1.0000e+00  0.0000e+00  1.0000e+00\n",
      "   4.0000e+00  1.8280e+03  0.0000e+00  0.0000e+00  1.8280e+03  0.0000e+00\n",
      "   0.0000e+00  2.0000e+00  0.0000e+00  3.0000e+00  1.0000e+00  2.0000e+00\n",
      "   9.0000e+00  5.0000e+00  1.0000e+00  2.0000e+00  1.0000e+00  2.0070e+03\n",
      "   2.0000e+00  3.0000e+00  7.7400e+02  4.0000e+00  4.0000e+00  2.0000e+00\n",
      "   0.0000e+00  1.0800e+02  0.0000e+00  0.0000e+00  2.6000e+02  0.0000e+00\n",
      "  -1.0000e+00 -1.0000e+00 -1.0000e+00  0.0000e+00  7.0000e+00  2.0070e+03\n",
      "   6.0000e+00  5.0000e+00]\n",
      " [ 8.7100e+02  2.0000e+01  3.0000e+00  6.0000e+01  6.6000e+03  1.0000e+00\n",
      "  -1.0000e+00  3.0000e+00  3.0000e+00  0.0000e+00  4.0000e+00  0.0000e+00\n",
      "   1.2000e+01  4.0000e+00  2.0000e+00  0.0000e+00  2.0000e+00  5.0000e+00\n",
      "   5.0000e+00  1.9620e+03  1.9620e+03  3.0000e+00  0.0000e+00  8.0000e+00\n",
      "   8.0000e+00  2.0000e+00  0.0000e+00  3.0000e+00  4.0000e+00  1.0000e+00\n",
      "   3.0000e+00  3.0000e+00  3.0000e+00  5.0000e+00  0.0000e+00  5.0000e+00\n",
      "   0.0000e+00  8.9400e+02  8.9400e+02  1.0000e+00  2.0000e+00  0.0000e+00\n",
      "   4.0000e+00  8.9400e+02  0.0000e+00  0.0000e+00  8.9400e+02  0.0000e+00\n",
      "   0.0000e+00  1.0000e+00  0.0000e+00  2.0000e+00  1.0000e+00  3.0000e+00\n",
      "   5.0000e+00  5.0000e+00  0.0000e+00 -1.0000e+00  5.0000e+00  1.9620e+03\n",
      "   2.0000e+00  1.0000e+00  3.0800e+02  4.0000e+00  4.0000e+00  2.0000e+00\n",
      "   0.0000e+00  0.0000e+00  0.0000e+00  0.0000e+00  0.0000e+00  0.0000e+00\n",
      "  -1.0000e+00 -1.0000e+00 -1.0000e+00  0.0000e+00  8.0000e+00  2.0090e+03\n",
      "   8.0000e+00  4.0000e+00]\n",
      " [ 9.3000e+01  3.0000e+01  3.0000e+00  8.0000e+01  1.3360e+04  1.0000e+00\n",
      "   0.0000e+00  0.0000e+00  1.0000e+00  0.0000e+00  4.0000e+00  0.0000e+00\n",
      "   6.0000e+00  2.0000e+00  2.0000e+00  0.0000e+00  2.0000e+00  5.0000e+00\n",
      "   7.0000e+00  1.9210e+03  2.0060e+03  1.0000e+00  0.0000e+00  1.3000e+01\n",
      "   1.4000e+01  2.0000e+00  0.0000e+00  3.0000e+00  2.0000e+00  0.0000e+00\n",
      "   2.0000e+00  3.0000e+00  3.0000e+00  0.0000e+00  7.1300e+02  5.0000e+00\n",
      "   0.0000e+00  1.6300e+02  8.7600e+02  1.0000e+00  0.0000e+00  1.0000e+00\n",
      "   4.0000e+00  9.6400e+02  0.0000e+00  0.0000e+00  9.6400e+02  1.0000e+00\n",
      "   0.0000e+00  1.0000e+00  0.0000e+00  2.0000e+00  1.0000e+00  3.0000e+00\n",
      "   5.0000e+00  5.0000e+00  0.0000e+00 -1.0000e+00  5.0000e+00  1.9210e+03\n",
      "   2.0000e+00  2.0000e+00  4.3200e+02  4.0000e+00  4.0000e+00  2.0000e+00\n",
      "   0.0000e+00  0.0000e+00  4.4000e+01  0.0000e+00  0.0000e+00  0.0000e+00\n",
      "  -1.0000e+00 -1.0000e+00 -1.0000e+00  0.0000e+00  8.0000e+00  2.0090e+03\n",
      "   8.0000e+00  4.0000e+00]]\n"
     ]
    }
   ],
   "source": [
    "print(\"Datos después de limpiarlos\")\n",
    "print(train_data[:3])"
   ]
  },
  {
   "attachments": {},
   "cell_type": "markdown",
   "metadata": {},
   "source": [
    "# Definir un dataloader\n",
    "\n",
    "Después de haber limpiado los datos, definiremos un dataloader para poder iterarlos. Esta es una clase proprietaria de pytorch donde podemos aplicar distintas técnicas de regularización y preprocesamiento al dataset según se requiera. También nos permitirá definir cómo queremos recibir los datos durante el entrenamiento. Puedes leer mas sobre los dataloaders en el siguiente enlace: [dataloaders en pytorch](https://pytorch.org/tutorials/beginner/basics/data_tutorial.html)"
   ]
  },
  {
   "cell_type": "code",
<<<<<<< HEAD
   "execution_count": 258,
=======
   "execution_count": 25,
>>>>>>> 4eeaac7f73140c1aa51579aa31312355179abd25
   "metadata": {},
   "outputs": [
    {
     "name": "stdout",
     "output_type": "stream",
     "text": [
      "1168 292\n"
     ]
    }
   ],
   "source": [
    "class HousingDataset(Dataset):\n",
    "    def __init__(self, data, labels):\n",
    "        self.data = data.astype('float32')\n",
    "        self.labels = labels.astype('float32')\n",
    "        \n",
    "        # TODO: calcula la cantidad de variables de entrada y salida\n",
    "        self.input_dims = train_data.shape[-1] #80\n",
    "        self.output_dims =  1 #Solo predemos un valor por casa\n",
    "\n",
    "    def __len__(self):\n",
    "        return len(self.data)\n",
    "\n",
    "    def __getitem__(self, idx):\n",
    "        # print(self.data.shape, type(self.data), idx)\n",
    "        # print(self.labels.shape, type(self.labels), idx)\n",
    "        datapoint = self.data[idx]\n",
    "        label = self.labels[idx]\n",
    "        label = np.expand_dims(label,0) # Transformarlo a vector de 1x1\n",
    "        return datapoint, label\n",
    "\n",
    "# DATASETS\n",
    "train_dataset = HousingDataset(train_data, train_labels)\n",
    "val_dataset = HousingDataset(val_data, val_labels)\n",
    "total_train_data, total_val_data = len(train_dataset), len(val_dataset)\n",
    "\n",
    "print(total_train_data, total_val_data)"
   ]
  },
  {
   "attachments": {},
   "cell_type": "markdown",
   "metadata": {},
   "source": [
    "Para poder aplicar descenso de gradiente estocástico necesitamos poder seleccionar distintos indices de nuestro conjunto de datos. Esto está automatizado por pytorch y nosotros podemos indicarle de qué tamaño será el batch size y si queremos que seleccione los indices aleatoriamente o no.\n",
    "\n",
    "En la celda anterior nosotros definimos nuestro conjunto de datos de las casas (HousingDataset) donde dado un indice i, regresamos un tuple (dato[i], label[i]).\n",
    "\n",
    "En la siguiente celda definimos nuestros dataloaders donde especificamos el batch size a utilizar y probamos como funciona. Intenta cambiar el batch size y observa cuantas iteraciones hace el dataloader."
   ]
  },
  {
   "cell_type": "code",
<<<<<<< HEAD
   "execution_count": 259,
=======
   "execution_count": 26,
>>>>>>> 4eeaac7f73140c1aa51579aa31312355179abd25
   "metadata": {},
   "outputs": [
    {
     "name": "stdout",
     "output_type": "stream",
     "text": [
      "En ENTRENAMIENTO hay 1168 datos. Hicimos 36 iteraciones con un batch_size de 32\n",
      "En VALIDACIÓN hay 292 datos. Hicimos 9 iteraciones con un batch_size de 32\n"
     ]
    }
   ],
   "source": [
    "# TODO: Cambia el batch size y responde la pregunta de la celda siguiente\n",
    "batch_size = 32 #Se puede cambiar, \n",
    "\n",
    "# DATALOADERS\n",
    "train_loader = DataLoader(train_dataset,\n",
    "                          batch_size=batch_size,\n",
    "                          shuffle=True)           #Shuffle para que no se repitan los datos y sean random\n",
    "val_loader = DataLoader(val_dataset,\n",
    "                        batch_size=batch_size,\n",
    "                        shuffle=False)\n",
    "\n",
    "# Iteraciones\n",
    "for i, data in enumerate(train_loader, 0):\n",
    "    # get the inputs; data is a list of [inputs, labels]\n",
    "    inputs, labels = data\n",
    "print(f\"En ENTRENAMIENTO hay {len(train_dataset)} datos. Hicimos {i} iteraciones con un batch_size de {batch_size}\")\n",
    "\n",
    "for i, data in enumerate(val_loader, 0):\n",
    "    # get the inputs; data is a list of [inputs, labels]\n",
    "    inputs, labels = data\n",
    "print(f\"En VALIDACIÓN hay {len(val_dataset)} datos. Hicimos {i} iteraciones con un batch_size de {batch_size}\")\n",
    "    "
   ]
  },
  {
   "attachments": {},
   "cell_type": "markdown",
   "metadata": {},
   "source": [
    "## TODO: Responde\n",
    "**¿Como se relaciona la cantidad de iteraciones, la cantidad de datos en el dataset y el batch_size?**\n",
    "\n",
    "Entre menor sea el batch_size la cantidad de iteraciones será más grande, además nos ayudará a poder ir enviando datos en el tamaño que definimos."
   ]
  },
  {
   "attachments": {},
   "cell_type": "markdown",
   "metadata": {},
   "source": [
    "# Definir la red neuronal\n",
    "Ahora vamos a definir la red neuronal (: Aquí mostraremos dos formas de hacerlo. La primera consiste en utilizar la clase sequential y la segunda es hacerlo \"manualmente\". La ventaja de la última, es que tienes más control sobre como defines tu red. \n",
    "Investiga como declarar una red neuronal en pytorch usando la clase [sequential]([https://pytorch.org/docs/stable/generated/torch.nn.Sequential.html).\n",
    "\n",
    "Otras clases importantes son las funciones de activación: [non-linear Activations](https://pytorch.org/docs/stable/nn.html#non-linear-activations-weighted-sum-nonlinearity)\n",
    "y las capas completamente conectadas: [linear layers](https://pytorch.org/docs/stable/generated/torch.nn.Linear.html)"
   ]
  },
  {
   "cell_type": "code",
<<<<<<< HEAD
   "execution_count": 260,
=======
   "execution_count": 27,
>>>>>>> 4eeaac7f73140c1aa51579aa31312355179abd25
   "metadata": {},
   "outputs": [
    {
     "name": "stdout",
     "output_type": "stream",
     "text": [
      "Definiendo red con 80 variables de entradas y 1 variables de salida\n"
     ]
    }
   ],
   "source": [
    "# Tenemos \n",
    "input_dims = train_dataset.input_dims\n",
    "output_dims = 1\n",
    "print(f\"Definiendo red con {input_dims} variables de entradas y {output_dims} variables de salida\")"
   ]
  },
  {
   "attachments": {},
   "cell_type": "markdown",
   "metadata": {},
   "source": [
    "### Opción A)\n",
    "Declarando la red con nn.Sequential"
   ]
  },
  {
   "cell_type": "code",
<<<<<<< HEAD
   "execution_count": 261,
=======
   "execution_count": 28,
>>>>>>> 4eeaac7f73140c1aa51579aa31312355179abd25
   "metadata": {},
   "outputs": [],
   "source": [
    "# TODO: Agrega más capas a la siguiente red.\n",
    "# Puedes utilizar funciones de activación ReLU para las capas escondidas\n",
    "# Definiendo la red con sequential\n",
    "net1 = nn.Sequential(\n",
<<<<<<< HEAD
    "        nn.Linear(input_dims, input_dims^10),   # capa lineal entran ..., salen ... features\n",
=======
    "         nn.Linear(input_dims, 128),   # capa lineal entran ..., salen ... features\n",
    "        nn.ReLU(),             # activación ReLu a la lineal anterior\n",
    "        nn.Linear(128, 256),   # capa lineal entran ..., salen ... features\n",
    "        nn.ReLU(),             # activación ReLu a la lineal anterior\n",
    "        nn.Linear(256, 512),   # capa lineal entran ..., salen ... features\n",
    "        nn.ReLU(),             # activación ReLu a la lineal anterior\n",
    "        nn.Linear(512, 1024),   # capa lineal entran ..., salen ... features\n",
    "        nn.ReLU(),             # activación ReLu a la lineal anterior\n",
    "        nn.Linear(1024, 2048),   # capa lineal entran ..., salen ... features\n",
>>>>>>> 4eeaac7f73140c1aa51579aa31312355179abd25
    "        nn.ReLU(),             # activación ReLu a la lineal anterior\n",
    "        nn.Linear(input_dims^10, input_dims^11),   # capa lineal entran ..., salen ... features\n",
    "        nn.ReLU(),             # activación ReLu a la lineal anterior\n",
<<<<<<< HEAD
    "        nn.Linear(input_dims^11, input_dims^12),   # capa lineal entran ..., salen ... features\n",
    "        nn.ReLU(),             # activación ReLu a la lineal anterior\n",
    "        nn.Linear(input_dims^12, input_dims^13),   # capa lineal entran ..., salen ... features\n",
=======
    "        nn.Linear(4096, 8192),   # capa lineal entran ..., salen ... features\n",
    "        nn.ReLU(),             # activación ReLu a la lineal anterior\n",
    "        nn.Linear(8192, 4096),   # capa lineal entran ..., salen ... features\n",
    "        nn.ReLU(),             # activación ReLu a la lineal anterior\n",
    "        nn.Linear(4096, 2048),   # capa lineal entran ..., salen ... features\n",
    "        nn.ReLU(), \n",
    "        nn.Linear(2048, 1024),   # capa lineal entran ..., salen ... features\n",
>>>>>>> 4eeaac7f73140c1aa51579aa31312355179abd25
    "        nn.ReLU(),             # activación ReLu a la lineal anterior\n",
    "        nn.Linear(input_dims^13, input_dims^14),   # capa lineal entran ..., salen ... features\n",
    "        nn.ReLU(),             # activación ReLu a la lineal anterior\n",
    "        nn.Linear(input_dims^14, input_dims^15),   # capa lineal entran ..., salen ... features\n",
    "        nn.ReLU(),             # activación ReLu a la lineal anterior\n",
    "        nn.Linear(input_dims^15, input_dims^16),   # capa lineal entran ..., salen ... features\n",
    "        nn.ReLU(),             # activación ReLu a la lineal anterior\n",
    "        nn.Linear(input_dims^16, input_dims^17),   # capa lineal entran ..., salen ... features\n",
    "        nn.ReLU(),             # activación ReLu a la lineal anterior\n",
    "        nn.Linear(input_dims^17, input_dims^18),   # capa lineal entran ..., salen ... features\n",
    "        nn.ReLU(),             # activación ReLu a la lineal anterior\n",
    "        nn.Linear(input_dims^18, input_dims^19),   # capa lineal entran ..., salen ... features\n",
    "        nn.ReLU(),             # activación ReLu a la lineal anterior\n",
    "        nn.Linear(input_dims^19, input_dims^20),   # capa lineal entran ..., salen ... features\n",
    "        nn.ReLU(),             # activación ReLu a la lineal anterior\n",
    "        nn.Linear(input_dims^20, output_dims),   # capa lineal entran ... salen ... features\n",
    "    )"
   ]
  },
  {
   "attachments": {},
   "cell_type": "markdown",
   "metadata": {},
   "source": [
    "### Opción B)\n",
    "Declarando la red \"manualmente\""
   ]
  },
  {
   "cell_type": "code",
<<<<<<< HEAD
   "execution_count": 262,
=======
   "execution_count": 29,
>>>>>>> 4eeaac7f73140c1aa51579aa31312355179abd25
   "metadata": {},
   "outputs": [],
   "source": [
    "# TODO: Agrega más capas a la siguiente red y modifca el forward pass de acuerdo a tus adiciones\n",
    "class Net(nn.Module):\n",
    "    def __init__(self, input_dims, output_dims):\n",
    "        super().__init__()\n",
    "        # TODO: Define las capas así como la cantidad de variables de entrada y salida\n",
    "        self.fc1 = nn.Linear(input_dims,4096)\n",
    "        self.fc2 = nn.Linear(4096, output_dims)\n",
    "\n",
    "    def forward(self, x):\n",
    "        # TODO: Define el forward pass\n",
    "        z1 = self.fc1(x)\n",
    "        a1 = F.relu(z1)\n",
    "        x = self.fc2(a1)\n",
    "        return x\n",
    "net2 = Net(input_dims, output_dims)"
   ]
  },
  {
   "attachments": {},
   "cell_type": "markdown",
   "metadata": {},
   "source": [
    "## Inferencia / forward pass\n",
    "\n",
    "En este momento tenemos una red no entrenada, sin embargo ya podemos usarla para inferencia. Vamos a intentar propagar algunos datos de entrenamiento y observemos las predicciones."
   ]
  },
  {
   "cell_type": "code",
<<<<<<< HEAD
   "execution_count": 263,
=======
   "execution_count": 30,
>>>>>>> 4eeaac7f73140c1aa51579aa31312355179abd25
   "metadata": {},
   "outputs": [
    {
     "name": "stdout",
     "output_type": "stream",
     "text": [
      "Propagando matriz de datos de dimensionalidad torch.Size([32, 80]), con etiquetas de dimensionalidad torch.Size([32, 1])\n",
<<<<<<< HEAD
      "Costo de red 1: 46108798976.0\n",
      "Costo de red 2: 46079741952.0\n"
=======
      "Costo de red 1: 32798486528.0\n",
      "Costo de red 2: 32740096000.0\n"
>>>>>>> 4eeaac7f73140c1aa51579aa31312355179abd25
     ]
    }
   ],
   "source": [
    "X, y_hat = next(iter(train_loader))\n",
    "print(f\"Propagando matriz de datos de dimensionalidad {X.shape}, con etiquetas de dimensionalidad {y_hat.shape}\")\n",
    "loss = nn.MSELoss()\n",
    "\n",
    "# ==== Red 1 ==== #\n",
    "# Forward pass de red 1\n",
    "pred_net1 = net1(X)\n",
    "\n",
    "# Calculando el costo\n",
    "cost1 = loss(pred_net1, y_hat)  # Pred, target\n",
    "print(f\"Costo de red 1: {cost1}\")\n",
    "\n",
    "# ==== Red 2 ==== #\n",
    "# Forward pass de red 2\n",
    "pred_net2 = net2(X)\n",
    "\n",
    "# Calculando el costo\n",
    "cost2 = loss(pred_net2, y_hat)  # Pred, target\n",
    "print(f\"Costo de red 2: {cost2}\")"
   ]
  },
  {
   "attachments": {},
   "cell_type": "markdown",
   "metadata": {},
   "source": [
    "## Probando el pipeline\n",
    "Ya estamos casi listos para entrenar! pero antes... define la función validation_step.\n",
    "\n",
    "Durante entrenamiento, al final de cada epoch predeciremos el **costo total** del conjunto de datos de validación. Esto nos permitirá determinar si la actualización de los pesos está convergiendo a un valor deseado, y en base a ello modificar los hiperparámetros de ser necesario. Esta función deberá:\n",
    "- calcular las predicciones de un minibatch\n",
    "- calcular el costo del minibatch\n",
    "- sumar los costos para regresar el costo promedio por minibatch"
   ]
  },
  {
   "cell_type": "code",
<<<<<<< HEAD
   "execution_count": 264,
=======
   "execution_count": 31,
>>>>>>> 4eeaac7f73140c1aa51579aa31312355179abd25
   "metadata": {},
   "outputs": [
    {
     "name": "stdout",
     "output_type": "stream",
     "text": [
<<<<<<< HEAD
      "Costo TOTAL de validación antes de entrenar: 43833109913.6\n"
=======
      "Costo TOTAL de validación antes de entrenar: 43833148416.0\n"
>>>>>>> 4eeaac7f73140c1aa51579aa31312355179abd25
     ]
    }
   ],
   "source": [
    "def validation_step(val_loader, net, cost_function):\n",
    "    '''\n",
    "        Realiza un epoch completo en el conjunto de validación\n",
    "        args:\n",
    "        - val_loader (torch.DataLoader): dataloader para los datos de validación\n",
    "        - net: definición de la red neuronal (con nn.Sequential o la clase anteriormente definida)\n",
    "        - cost_function(torch.nn): Función de costo a utilizar\n",
    "\n",
    "        returns:\n",
    "        - val_loss (float): el costo total (promedio por minibatch) de todos los datos de validación\n",
    "    '''\n",
    "    val_loss = 0.0\n",
    "    for i, data in enumerate(val_loader, 0):\n",
    "        # get the inputs; data is a list of [inputs, labels]\n",
    "        inputs, labels = data\n",
    "\n",
    "        # Este decorador de \"torch.inference_mode()\" solo se utiliza DURANTE INFERENCIA\n",
    "        # ya que lo que hace es evitar que se puedan actualizar los parámetros de la red.\n",
    "        # Por lo tanto es importante solo usarlo en inferencia (es decir, evítalo en entrenamiento)\n",
    "        with torch.inference_mode():\n",
    "            # TODO: Calcula las predicciones de \"inputs\"\n",
    "            pred = net(inputs)\n",
    "            # TODO: Calcula el costo\n",
    "            loss = cost_function(pred, labels)\n",
    "\n",
    "            # Sumamos los costos para calcular el promedio\n",
    "            val_loss += loss.item()\n",
    "    return val_loss/len(val_loader)\n",
    "\n",
    "# Probando el validation_step\n",
    "loss = nn.MSELoss()\n",
    "costo_validacion = validation_step(val_loader, net1, loss)\n",
    "print(f\"Costo TOTAL de validación antes de entrenar: {costo_validacion}\")"
   ]
  },
  {
   "attachments": {},
   "cell_type": "markdown",
   "metadata": {},
   "source": [
    "# Entrenamiento"
   ]
  },
  {
   "attachments": {},
   "cell_type": "markdown",
   "metadata": {},
   "source": [
    "## Curvas de entrenamiento\n",
    "Para poder visualizar el entrenamiento de la red en tiempo real, primero definimos una clase de utiliería. Ejecuta la celda y procede a la siguiente sección."
   ]
  },
  {
   "cell_type": "code",
<<<<<<< HEAD
   "execution_count": 265,
=======
   "execution_count": 32,
>>>>>>> 4eeaac7f73140c1aa51579aa31312355179abd25
   "metadata": {},
   "outputs": [],
   "source": [
    "class PlotLosses():\n",
    "    def __init__(self, logs={}):\n",
    "        self.i = 0\n",
    "        self.x = []\n",
    "        self.losses = []\n",
    "        self.val_losses = []\n",
    "        self.fig = plt.figure()\n",
    "        \n",
    "        self.logs = []\n",
    "\n",
    "    def on_epoch_end(self, epoch, train_loss, val_loss):        \n",
    "        self.x.append(self.i)\n",
    "        self.losses.append(train_loss)\n",
    "        self.val_losses.append(val_loss)\n",
    "        self.i += 1\n",
    "        plt.plot(self.x, self.losses, label=\"Costo de entrenamiento promedio\")\n",
    "        plt.plot(self.x, self.val_losses, label=\"Costo de validación promedio\")\n",
    "        plt.xlabel('epochs')\n",
    "        plt.ylabel('Loss')\n",
    "        plt.legend()\n",
    "        plt.show()"
   ]
  },
  {
   "attachments": {},
   "cell_type": "markdown",
   "metadata": {},
   "source": [
    "## Optimización"
   ]
  },
  {
   "attachments": {},
   "cell_type": "markdown",
   "metadata": {},
   "source": [
    "Como vimos en clase, para entrenar la red es necesario antes definir los hiperparámetros. Estos incluyen:\n",
    "- Los epochs\n",
    "- El ritmo de aprendizaje (learning_rate)\n",
    "- El batch_size\n",
    "- La cantidad de capas\n",
    "- La cantidad de neuronas por capa\n",
    "\n",
    "Existen muchos otros hiperparámetros para obtener mejor generalización, sin embargo por ahora nos enfocaremos en estos.\n",
    "En la siguiente celda puedes modificar los hiperparámetros de entrenamiento. Recuerda siempre correr esta celda antes de entrenar la red para que se reflejen los nuevos hiperparámetros!"
   ]
  },
  {
   "cell_type": "code",
<<<<<<< HEAD
   "execution_count": 266,
=======
   "execution_count": 33,
>>>>>>> 4eeaac7f73140c1aa51579aa31312355179abd25
   "metadata": {},
   "outputs": [],
   "source": [
    "import torch.optim as optim\n",
    "# TODO: Modifica los hiperparámetros y prueba entrenar con ellos hasta que encuentres una configuración adecuada\n",
    "# Hiperparametros\n",
    "config = {\n",
<<<<<<< HEAD
    "    \"n_epochs\": 5000,\n",
    "    \"lr\": 0.0001,\n",
    "    \"batch_size\": 160,\n",
=======
    "    \"n_epochs\": 300,\n",
    "    \"lr\": 1e-4,\n",
    "    \"batch_size\": 32,\n",
>>>>>>> 4eeaac7f73140c1aa51579aa31312355179abd25
    "}\n",
    "\n",
    "train_loader = DataLoader(train_dataset,\n",
    "                          batch_size=config['batch_size'],\n",
    "                          shuffle=True)\n",
    "val_loader = DataLoader(val_dataset,\n",
    "                        batch_size=config['batch_size'],\n",
    "                        shuffle=False)"
   ]
  },
  {
   "attachments": {},
   "cell_type": "markdown",
   "metadata": {},
   "source": [
    "Ahora si! estamos listos para entrenar tu primera red neuronal. En esta celda aplicarás descenso de gradiente estocástico al dataset del problema de las casas, utilizando TODAS las variables de entrada. Para ellos deberás:\n",
    "- Definir la función de costo\n",
    "- Hacer el forward pass\n",
    "- Calcular el costo del minibatch\n",
    "- Calcular el gradiente del minibatch\n",
    "- Actualizar los pesos con el gradiente anterior\n",
    "\n",
    "y repetir los pasos anteriores por una cantidad de epochs determinada.\n",
    "\n",
    "Una vez finalizado todo corre el entrenamiento y visualiza como cambia el loss según se entrena la red."
   ]
  },
  {
   "cell_type": "code",
<<<<<<< HEAD
   "execution_count": 267,
=======
   "execution_count": 34,
>>>>>>> 4eeaac7f73140c1aa51579aa31312355179abd25
   "metadata": {},
   "outputs": [
    {
     "data": {
<<<<<<< HEAD
      "image/png": "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",
=======
      "image/png": "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",
>>>>>>> 4eeaac7f73140c1aa51579aa31312355179abd25
      "text/plain": [
       "<Figure size 640x480 with 1 Axes>"
      ]
     },
     "metadata": {},
     "output_type": "display_data"
    },
    {
     "name": "stdout",
     "output_type": "stream",
     "text": [
      "Finished Training\n"
     ]
    }
   ],
   "source": [
    "from IPython import display\n",
    "%matplotlib inline\n",
    "import time\n",
    "\n",
    "# TODO: Elige la red que quieres utilizar. Tambien recuerda que puedes modificarla a tu gusto\n",
    "input_dims = train_dataset.input_dims\n",
    "output_dims = train_dataset.output_dims\n",
    "net = net1\n",
    "\n",
    "# TODO: Define la función de costo a utilizar\n",
    "cost_function = nn.MSELoss()\n",
    "\n",
    "# Mandamos los parametros de la red para que los pueda optimizar\n",
<<<<<<< HEAD
    "\n",
    "optimizer = optim.Rprop(net.parameters(), lr=config['lr'])\n",
=======
    "optimizer = optim.NAdam(net.parameters(),\n",
    "                       lr=config['lr'])\n",
>>>>>>> 4eeaac7f73140c1aa51579aa31312355179abd25
    "\n",
    "loss_plot = PlotLosses()\n",
    "for epoch in range(config['n_epochs']):  # loop over the dataset multiple times\n",
    "    train_loss = 0.0\n",
    "    for i, data in enumerate(train_loader, 0):\n",
    "        # get the inputs; data is a list of [inputs, labels]\n",
    "        inputs, labels = data \n",
    "\n",
    "        # zero the parameter gradients\n",
    "        optimizer.zero_grad()\n",
    "\n",
    "        # TODO: Realiza el forward pass/ las predicciones actuales para los datos \"inputs\"\n",
    "        outputs = net(inputs)\n",
    "\n",
    "        # TODO: Calcula el costo para las predicciones y las etiquetas(labels)\n",
    "        loss = cost_function(outputs, labels)\n",
    "\n",
    "        # TODO: Calcula los gradientes para todos los parámetros\n",
    "        loss.backward()\n",
    "\n",
    "        # TODO: Actualiza los pesos\n",
    "        optimizer.step()\n",
    "        # Sumamos el costo del minibatch para calcular el promedio\n",
    "        train_loss += loss.item()\n",
    "    \n",
    "    # Calculamos el costo promedio\n",
    "    train_loss = train_loss/len(train_loader)\n",
    "    \n",
    "    # Por cada \n",
    "    val_loss = validation_step(val_loader, net, cost_function)\n",
    "\n",
    "    # Actualizamos la gráfica de las curvas de entrenamiento\n",
    "    display.display(plt.gcf())\n",
    "    display.clear_output(wait=True)\n",
    "    time.sleep(0.5)\n",
    "    loss_plot.on_epoch_end(epoch, train_loss, val_loss)\n",
    "print('Finished Training')"
   ]
  },
  {
   "attachments": {},
   "cell_type": "markdown",
   "metadata": {},
   "source": [
    "# Conjunto de prueba (Inferencia)\n",
    "Ahora que la red está entrenada, vamos a predecir los valores para el conjunto de prueba. La siguiente celda utiliza la red que has entrenado anteriormente, calcula las predicciones y genera un csv con las mismas. \n",
    "\n",
    "Vamos a ver que equipo logra el menor costo! Ya que tengas las predicciones del conjunto de prueba, súbelas a la [siguiente competencia de Kaggle](https://www.kaggle.com/t/b62cf05f3486cb800056329ff7f44bf1) para que veas el leaderboard.\n",
    "\n",
    "En esta competencia podrán participar los dos grupos y los equipos ganadores recibirán puntos extra en el examen (:\n",
    "Puedes subir tus predicciones más de una vez.\n",
    "\n",
    "Si te interesa encontrar maneras de mejorar la predicción de tu red, puedes consultar la documentación de pytorch sobre [Optimizadores](https://pytorch.org/docs/stable/optim.html).\n",
    "\n",
    "Puedes intentar, investigar sobre los parámetros adicionales de [Descenso de gradiente Estocástico (SGD)](https://pytorch.org/docs/stable/generated/torch.optim.SGD.html#torch.optim.SGD) o usar un optimizador distinto como [ADAM](https://pytorch.org/docs/stable/generated/torch.optim.Adam.html?highlight=adam#torch.optim.Adam), [ADAGRAD](https://pytorch.org/docs/stable/generated/torch.optim.Adagrad.html#torch.optim.Adagrad) etc."
   ]
  },
  {
   "cell_type": "code",
<<<<<<< HEAD
   "execution_count": 268,
=======
   "execution_count": 44,
>>>>>>> 4eeaac7f73140c1aa51579aa31312355179abd25
   "metadata": {},
   "outputs": [
    {
     "name": "stdout",
     "output_type": "stream",
     "text": [
      "Prueba shapes (1459, 80)\n"
     ]
    }
   ],
   "source": [
    "# Cargamos los datos de prueba y aplicamos el mismo proceso\n",
    "# Solo que en este caso no hay etiquetas\n",
    "test_data = read_data(data_dir, \"test.csv\")\n",
    "ids = np.array(test_data['Id'], dtype=int)\n",
    "\n",
    "test_data = test_data.iloc[:, 1:]\n",
    "test_data = apply_preprocessing(test_data, feat_encoder, obj_cols)\n",
    "print(\"Prueba shapes\", test_data.shape)\n",
    "\n",
    "test_data = torch.tensor(test_data, dtype=torch.float)\n",
    "with torch.inference_mode():\n",
    "    preds = net(test_data)\n",
    "\n",
    "preds = preds.detach().cpu().numpy()\n",
    "submission_df = pd.DataFrame({\n",
    "    \"Id\": ids,\n",
    "    \"SalePrice\": preds.squeeze()\n",
    "})\n",
    "submission_df.to_csv(\"test_preds.csv\", index=False)"
   ]
  }
 ],
 "metadata": {
  "kernelspec": {
   "display_name": "sistemas_inteligentes",
   "language": "python",
   "name": "python3"
  },
  "language_info": {
   "codemirror_mode": {
    "name": "ipython",
    "version": 3
   },
   "file_extension": ".py",
   "mimetype": "text/x-python",
   "name": "python",
   "nbconvert_exporter": "python",
   "pygments_lexer": "ipython3",
   "version": "3.8.16"
  },
  "orig_nbformat": 4,
  "vscode": {
   "interpreter": {
    "hash": "3ca2f356257a8589efa6f429a2d4e5d3103327f8c1184b3ada45b4a4d79407ec"
   }
  }
 },
 "nbformat": 4,
 "nbformat_minor": 2
}
